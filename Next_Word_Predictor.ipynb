{
  "nbformat": 4,
  "nbformat_minor": 0,
  "metadata": {
    "colab": {
      "provenance": []
    },
    "kernelspec": {
      "name": "python3",
      "display_name": "Python 3"
    },
    "language_info": {
      "name": "python"
    }
  },
  "cells": [
    {
      "cell_type": "code",
      "execution_count": 1,
      "metadata": {
        "id": "qf8gFiicIExV"
      },
      "outputs": [],
      "source": [
        "import pandas as pd"
      ]
    },
    {
      "cell_type": "code",
      "source": [
        "tweets = pd.read_csv('/content/tweet.csv', names = ['target', 'id', 'date', 'flag', 'user', 'content'], encoding = 'latin-1')"
      ],
      "metadata": {
        "id": "R5J4oLKkTO8z"
      },
      "execution_count": 2,
      "outputs": []
    },
    {
      "cell_type": "code",
      "source": [
        "tweets.head(5)"
      ],
      "metadata": {
        "colab": {
          "base_uri": "https://localhost:8080/",
          "height": 293
        },
        "id": "HdX_iCgETYy6",
        "outputId": "1d502a18-f5ec-4d4c-a7b7-1a9c1eb3f35f"
      },
      "execution_count": 14,
      "outputs": [
        {
          "output_type": "execute_result",
          "data": {
            "text/plain": [
              "   target          id                          date      flag  \\\n",
              "0       0  1467810369  Mon Apr 06 22:19:45 PDT 2009  NO_QUERY   \n",
              "1       0  1467810672  Mon Apr 06 22:19:49 PDT 2009  NO_QUERY   \n",
              "2       0  1467810917  Mon Apr 06 22:19:53 PDT 2009  NO_QUERY   \n",
              "3       0  1467811184  Mon Apr 06 22:19:57 PDT 2009  NO_QUERY   \n",
              "4       0  1467811193  Mon Apr 06 22:19:57 PDT 2009  NO_QUERY   \n",
              "\n",
              "              user                                            content  \n",
              "0  _TheSpecialOne_  @switchfoot http://twitpic.com/2y1zl - Awww, t...  \n",
              "1    scotthamilton  is upset that he can't update his Facebook by ...  \n",
              "2         mattycus  @Kenichan I dived many times for the ball. Man...  \n",
              "3          ElleCTF    my whole body feels itchy and like its on fire   \n",
              "4           Karoli  @nationwideclass no, it's not behaving at all....  "
            ],
            "text/html": [
              "\n",
              "  <div id=\"df-a5666429-8cdc-4caf-9241-26702227547e\" class=\"colab-df-container\">\n",
              "    <div>\n",
              "<style scoped>\n",
              "    .dataframe tbody tr th:only-of-type {\n",
              "        vertical-align: middle;\n",
              "    }\n",
              "\n",
              "    .dataframe tbody tr th {\n",
              "        vertical-align: top;\n",
              "    }\n",
              "\n",
              "    .dataframe thead th {\n",
              "        text-align: right;\n",
              "    }\n",
              "</style>\n",
              "<table border=\"1\" class=\"dataframe\">\n",
              "  <thead>\n",
              "    <tr style=\"text-align: right;\">\n",
              "      <th></th>\n",
              "      <th>target</th>\n",
              "      <th>id</th>\n",
              "      <th>date</th>\n",
              "      <th>flag</th>\n",
              "      <th>user</th>\n",
              "      <th>content</th>\n",
              "    </tr>\n",
              "  </thead>\n",
              "  <tbody>\n",
              "    <tr>\n",
              "      <th>0</th>\n",
              "      <td>0</td>\n",
              "      <td>1467810369</td>\n",
              "      <td>Mon Apr 06 22:19:45 PDT 2009</td>\n",
              "      <td>NO_QUERY</td>\n",
              "      <td>_TheSpecialOne_</td>\n",
              "      <td>@switchfoot http://twitpic.com/2y1zl - Awww, t...</td>\n",
              "    </tr>\n",
              "    <tr>\n",
              "      <th>1</th>\n",
              "      <td>0</td>\n",
              "      <td>1467810672</td>\n",
              "      <td>Mon Apr 06 22:19:49 PDT 2009</td>\n",
              "      <td>NO_QUERY</td>\n",
              "      <td>scotthamilton</td>\n",
              "      <td>is upset that he can't update his Facebook by ...</td>\n",
              "    </tr>\n",
              "    <tr>\n",
              "      <th>2</th>\n",
              "      <td>0</td>\n",
              "      <td>1467810917</td>\n",
              "      <td>Mon Apr 06 22:19:53 PDT 2009</td>\n",
              "      <td>NO_QUERY</td>\n",
              "      <td>mattycus</td>\n",
              "      <td>@Kenichan I dived many times for the ball. Man...</td>\n",
              "    </tr>\n",
              "    <tr>\n",
              "      <th>3</th>\n",
              "      <td>0</td>\n",
              "      <td>1467811184</td>\n",
              "      <td>Mon Apr 06 22:19:57 PDT 2009</td>\n",
              "      <td>NO_QUERY</td>\n",
              "      <td>ElleCTF</td>\n",
              "      <td>my whole body feels itchy and like its on fire</td>\n",
              "    </tr>\n",
              "    <tr>\n",
              "      <th>4</th>\n",
              "      <td>0</td>\n",
              "      <td>1467811193</td>\n",
              "      <td>Mon Apr 06 22:19:57 PDT 2009</td>\n",
              "      <td>NO_QUERY</td>\n",
              "      <td>Karoli</td>\n",
              "      <td>@nationwideclass no, it's not behaving at all....</td>\n",
              "    </tr>\n",
              "  </tbody>\n",
              "</table>\n",
              "</div>\n",
              "    <div class=\"colab-df-buttons\">\n",
              "\n",
              "  <div class=\"colab-df-container\">\n",
              "    <button class=\"colab-df-convert\" onclick=\"convertToInteractive('df-a5666429-8cdc-4caf-9241-26702227547e')\"\n",
              "            title=\"Convert this dataframe to an interactive table.\"\n",
              "            style=\"display:none;\">\n",
              "\n",
              "  <svg xmlns=\"http://www.w3.org/2000/svg\" height=\"24px\" viewBox=\"0 -960 960 960\">\n",
              "    <path d=\"M120-120v-720h720v720H120Zm60-500h600v-160H180v160Zm220 220h160v-160H400v160Zm0 220h160v-160H400v160ZM180-400h160v-160H180v160Zm440 0h160v-160H620v160ZM180-180h160v-160H180v160Zm440 0h160v-160H620v160Z\"/>\n",
              "  </svg>\n",
              "    </button>\n",
              "\n",
              "  <style>\n",
              "    .colab-df-container {\n",
              "      display:flex;\n",
              "      gap: 12px;\n",
              "    }\n",
              "\n",
              "    .colab-df-convert {\n",
              "      background-color: #E8F0FE;\n",
              "      border: none;\n",
              "      border-radius: 50%;\n",
              "      cursor: pointer;\n",
              "      display: none;\n",
              "      fill: #1967D2;\n",
              "      height: 32px;\n",
              "      padding: 0 0 0 0;\n",
              "      width: 32px;\n",
              "    }\n",
              "\n",
              "    .colab-df-convert:hover {\n",
              "      background-color: #E2EBFA;\n",
              "      box-shadow: 0px 1px 2px rgba(60, 64, 67, 0.3), 0px 1px 3px 1px rgba(60, 64, 67, 0.15);\n",
              "      fill: #174EA6;\n",
              "    }\n",
              "\n",
              "    .colab-df-buttons div {\n",
              "      margin-bottom: 4px;\n",
              "    }\n",
              "\n",
              "    [theme=dark] .colab-df-convert {\n",
              "      background-color: #3B4455;\n",
              "      fill: #D2E3FC;\n",
              "    }\n",
              "\n",
              "    [theme=dark] .colab-df-convert:hover {\n",
              "      background-color: #434B5C;\n",
              "      box-shadow: 0px 1px 3px 1px rgba(0, 0, 0, 0.15);\n",
              "      filter: drop-shadow(0px 1px 2px rgba(0, 0, 0, 0.3));\n",
              "      fill: #FFFFFF;\n",
              "    }\n",
              "  </style>\n",
              "\n",
              "    <script>\n",
              "      const buttonEl =\n",
              "        document.querySelector('#df-a5666429-8cdc-4caf-9241-26702227547e button.colab-df-convert');\n",
              "      buttonEl.style.display =\n",
              "        google.colab.kernel.accessAllowed ? 'block' : 'none';\n",
              "\n",
              "      async function convertToInteractive(key) {\n",
              "        const element = document.querySelector('#df-a5666429-8cdc-4caf-9241-26702227547e');\n",
              "        const dataTable =\n",
              "          await google.colab.kernel.invokeFunction('convertToInteractive',\n",
              "                                                    [key], {});\n",
              "        if (!dataTable) return;\n",
              "\n",
              "        const docLinkHtml = 'Like what you see? Visit the ' +\n",
              "          '<a target=\"_blank\" href=https://colab.research.google.com/notebooks/data_table.ipynb>data table notebook</a>'\n",
              "          + ' to learn more about interactive tables.';\n",
              "        element.innerHTML = '';\n",
              "        dataTable['output_type'] = 'display_data';\n",
              "        await google.colab.output.renderOutput(dataTable, element);\n",
              "        const docLink = document.createElement('div');\n",
              "        docLink.innerHTML = docLinkHtml;\n",
              "        element.appendChild(docLink);\n",
              "      }\n",
              "    </script>\n",
              "  </div>\n",
              "\n",
              "\n",
              "<div id=\"df-477ab397-e75c-4f18-a06e-e8d7b444090c\">\n",
              "  <button class=\"colab-df-quickchart\" onclick=\"quickchart('df-477ab397-e75c-4f18-a06e-e8d7b444090c')\"\n",
              "            title=\"Suggest charts\"\n",
              "            style=\"display:none;\">\n",
              "\n",
              "<svg xmlns=\"http://www.w3.org/2000/svg\" height=\"24px\"viewBox=\"0 0 24 24\"\n",
              "     width=\"24px\">\n",
              "    <g>\n",
              "        <path d=\"M19 3H5c-1.1 0-2 .9-2 2v14c0 1.1.9 2 2 2h14c1.1 0 2-.9 2-2V5c0-1.1-.9-2-2-2zM9 17H7v-7h2v7zm4 0h-2V7h2v10zm4 0h-2v-4h2v4z\"/>\n",
              "    </g>\n",
              "</svg>\n",
              "  </button>\n",
              "\n",
              "<style>\n",
              "  .colab-df-quickchart {\n",
              "      --bg-color: #E8F0FE;\n",
              "      --fill-color: #1967D2;\n",
              "      --hover-bg-color: #E2EBFA;\n",
              "      --hover-fill-color: #174EA6;\n",
              "      --disabled-fill-color: #AAA;\n",
              "      --disabled-bg-color: #DDD;\n",
              "  }\n",
              "\n",
              "  [theme=dark] .colab-df-quickchart {\n",
              "      --bg-color: #3B4455;\n",
              "      --fill-color: #D2E3FC;\n",
              "      --hover-bg-color: #434B5C;\n",
              "      --hover-fill-color: #FFFFFF;\n",
              "      --disabled-bg-color: #3B4455;\n",
              "      --disabled-fill-color: #666;\n",
              "  }\n",
              "\n",
              "  .colab-df-quickchart {\n",
              "    background-color: var(--bg-color);\n",
              "    border: none;\n",
              "    border-radius: 50%;\n",
              "    cursor: pointer;\n",
              "    display: none;\n",
              "    fill: var(--fill-color);\n",
              "    height: 32px;\n",
              "    padding: 0;\n",
              "    width: 32px;\n",
              "  }\n",
              "\n",
              "  .colab-df-quickchart:hover {\n",
              "    background-color: var(--hover-bg-color);\n",
              "    box-shadow: 0 1px 2px rgba(60, 64, 67, 0.3), 0 1px 3px 1px rgba(60, 64, 67, 0.15);\n",
              "    fill: var(--button-hover-fill-color);\n",
              "  }\n",
              "\n",
              "  .colab-df-quickchart-complete:disabled,\n",
              "  .colab-df-quickchart-complete:disabled:hover {\n",
              "    background-color: var(--disabled-bg-color);\n",
              "    fill: var(--disabled-fill-color);\n",
              "    box-shadow: none;\n",
              "  }\n",
              "\n",
              "  .colab-df-spinner {\n",
              "    border: 2px solid var(--fill-color);\n",
              "    border-color: transparent;\n",
              "    border-bottom-color: var(--fill-color);\n",
              "    animation:\n",
              "      spin 1s steps(1) infinite;\n",
              "  }\n",
              "\n",
              "  @keyframes spin {\n",
              "    0% {\n",
              "      border-color: transparent;\n",
              "      border-bottom-color: var(--fill-color);\n",
              "      border-left-color: var(--fill-color);\n",
              "    }\n",
              "    20% {\n",
              "      border-color: transparent;\n",
              "      border-left-color: var(--fill-color);\n",
              "      border-top-color: var(--fill-color);\n",
              "    }\n",
              "    30% {\n",
              "      border-color: transparent;\n",
              "      border-left-color: var(--fill-color);\n",
              "      border-top-color: var(--fill-color);\n",
              "      border-right-color: var(--fill-color);\n",
              "    }\n",
              "    40% {\n",
              "      border-color: transparent;\n",
              "      border-right-color: var(--fill-color);\n",
              "      border-top-color: var(--fill-color);\n",
              "    }\n",
              "    60% {\n",
              "      border-color: transparent;\n",
              "      border-right-color: var(--fill-color);\n",
              "    }\n",
              "    80% {\n",
              "      border-color: transparent;\n",
              "      border-right-color: var(--fill-color);\n",
              "      border-bottom-color: var(--fill-color);\n",
              "    }\n",
              "    90% {\n",
              "      border-color: transparent;\n",
              "      border-bottom-color: var(--fill-color);\n",
              "    }\n",
              "  }\n",
              "</style>\n",
              "\n",
              "  <script>\n",
              "    async function quickchart(key) {\n",
              "      const quickchartButtonEl =\n",
              "        document.querySelector('#' + key + ' button');\n",
              "      quickchartButtonEl.disabled = true;  // To prevent multiple clicks.\n",
              "      quickchartButtonEl.classList.add('colab-df-spinner');\n",
              "      try {\n",
              "        const charts = await google.colab.kernel.invokeFunction(\n",
              "            'suggestCharts', [key], {});\n",
              "      } catch (error) {\n",
              "        console.error('Error during call to suggestCharts:', error);\n",
              "      }\n",
              "      quickchartButtonEl.classList.remove('colab-df-spinner');\n",
              "      quickchartButtonEl.classList.add('colab-df-quickchart-complete');\n",
              "    }\n",
              "    (() => {\n",
              "      let quickchartButtonEl =\n",
              "        document.querySelector('#df-477ab397-e75c-4f18-a06e-e8d7b444090c button');\n",
              "      quickchartButtonEl.style.display =\n",
              "        google.colab.kernel.accessAllowed ? 'block' : 'none';\n",
              "    })();\n",
              "  </script>\n",
              "</div>\n",
              "    </div>\n",
              "  </div>\n"
            ]
          },
          "metadata": {},
          "execution_count": 14
        }
      ]
    },
    {
      "cell_type": "code",
      "source": [
        "tweets.sample()"
      ],
      "metadata": {
        "colab": {
          "base_uri": "https://localhost:8080/",
          "height": 98
        },
        "id": "CMVSPOGVUgUN",
        "outputId": "cf766edc-973f-4034-dacd-3d167cb3c6d5"
      },
      "execution_count": 15,
      "outputs": [
        {
          "output_type": "execute_result",
          "data": {
            "text/plain": [
              "         target          id                          date      flag  \\\n",
              "1046995       4  1957722017  Fri May 29 01:23:55 PDT 2009  NO_QUERY   \n",
              "\n",
              "               user                                            content  \n",
              "1046995  Kittycat01  @ladybug8320 morning!! beautiful isnt it! what...  "
            ],
            "text/html": [
              "\n",
              "  <div id=\"df-29271b36-5bc7-44b7-a557-c18e8b309018\" class=\"colab-df-container\">\n",
              "    <div>\n",
              "<style scoped>\n",
              "    .dataframe tbody tr th:only-of-type {\n",
              "        vertical-align: middle;\n",
              "    }\n",
              "\n",
              "    .dataframe tbody tr th {\n",
              "        vertical-align: top;\n",
              "    }\n",
              "\n",
              "    .dataframe thead th {\n",
              "        text-align: right;\n",
              "    }\n",
              "</style>\n",
              "<table border=\"1\" class=\"dataframe\">\n",
              "  <thead>\n",
              "    <tr style=\"text-align: right;\">\n",
              "      <th></th>\n",
              "      <th>target</th>\n",
              "      <th>id</th>\n",
              "      <th>date</th>\n",
              "      <th>flag</th>\n",
              "      <th>user</th>\n",
              "      <th>content</th>\n",
              "    </tr>\n",
              "  </thead>\n",
              "  <tbody>\n",
              "    <tr>\n",
              "      <th>1046995</th>\n",
              "      <td>4</td>\n",
              "      <td>1957722017</td>\n",
              "      <td>Fri May 29 01:23:55 PDT 2009</td>\n",
              "      <td>NO_QUERY</td>\n",
              "      <td>Kittycat01</td>\n",
              "      <td>@ladybug8320 morning!! beautiful isnt it! what...</td>\n",
              "    </tr>\n",
              "  </tbody>\n",
              "</table>\n",
              "</div>\n",
              "    <div class=\"colab-df-buttons\">\n",
              "\n",
              "  <div class=\"colab-df-container\">\n",
              "    <button class=\"colab-df-convert\" onclick=\"convertToInteractive('df-29271b36-5bc7-44b7-a557-c18e8b309018')\"\n",
              "            title=\"Convert this dataframe to an interactive table.\"\n",
              "            style=\"display:none;\">\n",
              "\n",
              "  <svg xmlns=\"http://www.w3.org/2000/svg\" height=\"24px\" viewBox=\"0 -960 960 960\">\n",
              "    <path d=\"M120-120v-720h720v720H120Zm60-500h600v-160H180v160Zm220 220h160v-160H400v160Zm0 220h160v-160H400v160ZM180-400h160v-160H180v160Zm440 0h160v-160H620v160ZM180-180h160v-160H180v160Zm440 0h160v-160H620v160Z\"/>\n",
              "  </svg>\n",
              "    </button>\n",
              "\n",
              "  <style>\n",
              "    .colab-df-container {\n",
              "      display:flex;\n",
              "      gap: 12px;\n",
              "    }\n",
              "\n",
              "    .colab-df-convert {\n",
              "      background-color: #E8F0FE;\n",
              "      border: none;\n",
              "      border-radius: 50%;\n",
              "      cursor: pointer;\n",
              "      display: none;\n",
              "      fill: #1967D2;\n",
              "      height: 32px;\n",
              "      padding: 0 0 0 0;\n",
              "      width: 32px;\n",
              "    }\n",
              "\n",
              "    .colab-df-convert:hover {\n",
              "      background-color: #E2EBFA;\n",
              "      box-shadow: 0px 1px 2px rgba(60, 64, 67, 0.3), 0px 1px 3px 1px rgba(60, 64, 67, 0.15);\n",
              "      fill: #174EA6;\n",
              "    }\n",
              "\n",
              "    .colab-df-buttons div {\n",
              "      margin-bottom: 4px;\n",
              "    }\n",
              "\n",
              "    [theme=dark] .colab-df-convert {\n",
              "      background-color: #3B4455;\n",
              "      fill: #D2E3FC;\n",
              "    }\n",
              "\n",
              "    [theme=dark] .colab-df-convert:hover {\n",
              "      background-color: #434B5C;\n",
              "      box-shadow: 0px 1px 3px 1px rgba(0, 0, 0, 0.15);\n",
              "      filter: drop-shadow(0px 1px 2px rgba(0, 0, 0, 0.3));\n",
              "      fill: #FFFFFF;\n",
              "    }\n",
              "  </style>\n",
              "\n",
              "    <script>\n",
              "      const buttonEl =\n",
              "        document.querySelector('#df-29271b36-5bc7-44b7-a557-c18e8b309018 button.colab-df-convert');\n",
              "      buttonEl.style.display =\n",
              "        google.colab.kernel.accessAllowed ? 'block' : 'none';\n",
              "\n",
              "      async function convertToInteractive(key) {\n",
              "        const element = document.querySelector('#df-29271b36-5bc7-44b7-a557-c18e8b309018');\n",
              "        const dataTable =\n",
              "          await google.colab.kernel.invokeFunction('convertToInteractive',\n",
              "                                                    [key], {});\n",
              "        if (!dataTable) return;\n",
              "\n",
              "        const docLinkHtml = 'Like what you see? Visit the ' +\n",
              "          '<a target=\"_blank\" href=https://colab.research.google.com/notebooks/data_table.ipynb>data table notebook</a>'\n",
              "          + ' to learn more about interactive tables.';\n",
              "        element.innerHTML = '';\n",
              "        dataTable['output_type'] = 'display_data';\n",
              "        await google.colab.output.renderOutput(dataTable, element);\n",
              "        const docLink = document.createElement('div');\n",
              "        docLink.innerHTML = docLinkHtml;\n",
              "        element.appendChild(docLink);\n",
              "      }\n",
              "    </script>\n",
              "  </div>\n",
              "\n",
              "    </div>\n",
              "  </div>\n"
            ]
          },
          "metadata": {},
          "execution_count": 15
        }
      ]
    },
    {
      "cell_type": "code",
      "source": [
        "content = tweets.content"
      ],
      "metadata": {
        "id": "jS40nHbxVesd"
      },
      "execution_count": 3,
      "outputs": []
    },
    {
      "cell_type": "code",
      "source": [
        "content.head()"
      ],
      "metadata": {
        "colab": {
          "base_uri": "https://localhost:8080/"
        },
        "id": "kgDDk-71Vs5U",
        "outputId": "f63ef950-1bbb-4234-9ef9-925758f8d1b3"
      },
      "execution_count": 19,
      "outputs": [
        {
          "output_type": "execute_result",
          "data": {
            "text/plain": [
              "0    @switchfoot http://twitpic.com/2y1zl - Awww, t...\n",
              "1    is upset that he can't update his Facebook by ...\n",
              "2    @Kenichan I dived many times for the ball. Man...\n",
              "3      my whole body feels itchy and like its on fire \n",
              "4    @nationwideclass no, it's not behaving at all....\n",
              "Name: content, dtype: object"
            ]
          },
          "metadata": {},
          "execution_count": 19
        }
      ]
    },
    {
      "cell_type": "code",
      "source": [
        "import re"
      ],
      "metadata": {
        "id": "bi6eJLrye5Ez"
      },
      "execution_count": 4,
      "outputs": []
    },
    {
      "cell_type": "code",
      "source": [
        "def removeMentions(string : str) -> str:\n",
        "  return re.sub(r'@[\\w\\d]{4,15}', '', string)"
      ],
      "metadata": {
        "id": "ilYR_HhOeeHs"
      },
      "execution_count": 5,
      "outputs": []
    },
    {
      "cell_type": "code",
      "source": [
        "def removeHashtags(string : str) -> str:\n",
        "  return re.sub(r'#[\\w\\d]+', '', string)"
      ],
      "metadata": {
        "id": "Krd0TeLZgIiu"
      },
      "execution_count": 6,
      "outputs": []
    },
    {
      "cell_type": "code",
      "source": [
        "def removeLinks(string : str) -> str:\n",
        "  return re.sub(r'(https?|www)[\\w\\d.\\\\\\/:]+', '', string)"
      ],
      "metadata": {
        "id": "YhfFE0oKgz5N"
      },
      "execution_count": 7,
      "outputs": []
    },
    {
      "cell_type": "code",
      "source": [
        "def remove(string : str) -> str:\n",
        "  return removeLinks(removeHashtags(removeMentions(string)))"
      ],
      "metadata": {
        "id": "62lIuWW_gZY0"
      },
      "execution_count": 8,
      "outputs": []
    },
    {
      "cell_type": "code",
      "source": [
        "content"
      ],
      "metadata": {
        "colab": {
          "base_uri": "https://localhost:8080/"
        },
        "id": "bg5JxxuHmwyu",
        "outputId": "1ea7841e-e02e-427c-dde0-bef5777333fa"
      },
      "execution_count": 48,
      "outputs": [
        {
          "output_type": "execute_result",
          "data": {
            "text/plain": [
              "0          @switchfoot http://twitpic.com/2y1zl - Awww, t...\n",
              "1          is upset that he can't update his Facebook by ...\n",
              "2          @Kenichan I dived many times for the ball. Man...\n",
              "3            my whole body feels itchy and like its on fire \n",
              "4          @nationwideclass no, it's not behaving at all....\n",
              "                                 ...                        \n",
              "1599995    Just woke up. Having no school is the best fee...\n",
              "1599996    TheWDB.com - Very cool to hear old Walt interv...\n",
              "1599997    Are you ready for your MoJo Makeover? Ask me f...\n",
              "1599998    Happy 38th Birthday to my boo of alll time!!! ...\n",
              "1599999    happy #charitytuesday @theNSPCC @SparksCharity...\n",
              "Name: content, Length: 1600000, dtype: object"
            ]
          },
          "metadata": {},
          "execution_count": 48
        }
      ]
    },
    {
      "cell_type": "code",
      "source": [
        "cleanTweets = content.apply(remove)"
      ],
      "metadata": {
        "id": "vligRvixe0VQ"
      },
      "execution_count": 10,
      "outputs": []
    },
    {
      "cell_type": "code",
      "source": [
        "cleanTweets.to_csv('/content/cleanTweets.csv')"
      ],
      "metadata": {
        "id": "3ZXRKosZf5Um"
      },
      "execution_count": 43,
      "outputs": []
    },
    {
      "cell_type": "code",
      "source": [
        "cleanTweets.sample(10)"
      ],
      "metadata": {
        "colab": {
          "base_uri": "https://localhost:8080/"
        },
        "id": "g9SabdH6kpbQ",
        "outputId": "da951467-c452-4f89-dbed-6bac99834caa"
      },
      "execution_count": 44,
      "outputs": [
        {
          "output_type": "execute_result",
          "data": {
            "text/plain": [
              "943408      that's good  20 more minutes to soak in your ...\n",
              "849596     My overun phone is still going strong  new chu...\n",
              "750906     Havent checked this out since I signed up  Jud...\n",
              "1257858                     i loooooooove fro yo with mommy \n",
              "402136                 I want the GSM version asap, goddamn \n",
              "1540368    Jamba juice 4 lunch! Also just got a membershi...\n",
              "330413                                 it'll work out &lt;3 \n",
              "1224379    Going to start the day with a workout and a bi...\n",
              "22111      Oh! It was raining in china grand prix too.. B...\n",
              "157022      different...headaches all week...lol...and a ...\n",
              "Name: content, dtype: object"
            ]
          },
          "metadata": {},
          "execution_count": 44
        }
      ]
    },
    {
      "cell_type": "code",
      "source": [
        "def removePunctuation(string : str) -> str:\n",
        "  return re.sub('[.,?:!-]', '', string)"
      ],
      "metadata": {
        "id": "Ptsz4WWSkzZC"
      },
      "execution_count": 11,
      "outputs": []
    },
    {
      "cell_type": "code",
      "source": [
        "def removeExtraSpace(string : str) -> str:\n",
        "  return re.sub(r'\\s+', ' ', string.strip())"
      ],
      "metadata": {
        "id": "DofBaFEzn6Ov"
      },
      "execution_count": 52,
      "outputs": []
    },
    {
      "cell_type": "code",
      "source": [
        "removeExtraSpace('  heljlakdj  dkfjalkd   lkdjfa j       j j')"
      ],
      "metadata": {
        "colab": {
          "base_uri": "https://localhost:8080/",
          "height": 35
        },
        "id": "ObdumlN8oKmE",
        "outputId": "dbe19fe3-9af4-4242-b3e5-94861001e647"
      },
      "execution_count": 53,
      "outputs": [
        {
          "output_type": "execute_result",
          "data": {
            "text/plain": [
              "'heljlakdj dkfjalkd lkdjfa j j j'"
            ],
            "application/vnd.google.colaboratory.intrinsic+json": {
              "type": "string"
            }
          },
          "metadata": {},
          "execution_count": 53
        }
      ]
    },
    {
      "cell_type": "code",
      "source": [
        "cleanTweets"
      ],
      "metadata": {
        "colab": {
          "base_uri": "https://localhost:8080/"
        },
        "id": "vAveZgrUmqIs",
        "outputId": "249f1160-02a4-4b40-b9ee-27ce2e5e1e0b"
      },
      "execution_count": 47,
      "outputs": [
        {
          "output_type": "execute_result",
          "data": {
            "text/plain": [
              "0            - Awww, that's a bummer.  You shoulda got Da...\n",
              "1          is upset that he can't update his Facebook by ...\n",
              "2           I dived many times for the ball. Managed to s...\n",
              "3            my whole body feels itchy and like its on fire \n",
              "4           no, it's not behaving at all. i'm mad. why am...\n",
              "                                 ...                        \n",
              "1599995    Just woke up. Having no school is the best fee...\n",
              "1599996    TheWDB.com - Very cool to hear old Walt interv...\n",
              "1599997    Are you ready for your MoJo Makeover? Ask me f...\n",
              "1599998    Happy 38th Birthday to my boo of alll time!!! ...\n",
              "1599999                                           happy     \n",
              "Name: content, Length: 1600000, dtype: object"
            ]
          },
          "metadata": {},
          "execution_count": 47
        }
      ]
    },
    {
      "cell_type": "code",
      "source": [
        "cleanTweets = cleanTweets.apply(removePunctuation)"
      ],
      "metadata": {
        "id": "qw722_7DmdYw"
      },
      "execution_count": 12,
      "outputs": []
    },
    {
      "cell_type": "code",
      "source": [
        "cleanTweets = cleanTweets.apply(removeExtraSpace)"
      ],
      "metadata": {
        "id": "_6Edvzjxmhh5"
      },
      "execution_count": 61,
      "outputs": []
    },
    {
      "cell_type": "code",
      "source": [
        "cleanTweets"
      ],
      "metadata": {
        "colab": {
          "base_uri": "https://localhost:8080/"
        },
        "id": "0V1vKr_uo2YZ",
        "outputId": "ca264af7-5ca3-4eef-bd77-14555783e67b"
      },
      "execution_count": 62,
      "outputs": [
        {
          "output_type": "execute_result",
          "data": {
            "text/plain": [
              "0          Awww that's a bummer You shoulda got David Car...\n",
              "1          is upset that he can't update his Facebook by ...\n",
              "2          I dived many times for the ball Managed to sav...\n",
              "3             my whole body feels itchy and like its on fire\n",
              "4          no it's not behaving at all i'm mad why am i h...\n",
              "                                 ...                        \n",
              "1599995    Just woke up Having no school is the best feel...\n",
              "1599996    TheWDBcom Very cool to hear old Walt interview...\n",
              "1599997    Are you ready for your MoJo Makeover Ask me fo...\n",
              "1599998    Happy 38th Birthday to my boo of alll time Tup...\n",
              "1599999                                                happy\n",
              "Name: content, Length: 1600000, dtype: object"
            ]
          },
          "metadata": {},
          "execution_count": 62
        }
      ]
    },
    {
      "cell_type": "code",
      "source": [
        "cleanTweets.isnull().sum()"
      ],
      "metadata": {
        "colab": {
          "base_uri": "https://localhost:8080/"
        },
        "id": "LQXObyyxpGvJ",
        "outputId": "7c04000b-953c-4a5a-8221-1cac338fb369"
      },
      "execution_count": 63,
      "outputs": [
        {
          "output_type": "execute_result",
          "data": {
            "text/plain": [
              "0"
            ]
          },
          "metadata": {},
          "execution_count": 63
        }
      ]
    },
    {
      "cell_type": "code",
      "source": [
        "cleanTweets[cleanTweets == ''].count()"
      ],
      "metadata": {
        "colab": {
          "base_uri": "https://localhost:8080/"
        },
        "id": "DyUBmYVUqs4q",
        "outputId": "c6ee863f-e2d5-4931-895a-be60feb6a232"
      },
      "execution_count": 71,
      "outputs": [
        {
          "output_type": "execute_result",
          "data": {
            "text/plain": [
              "3391"
            ]
          },
          "metadata": {},
          "execution_count": 71
        }
      ]
    },
    {
      "cell_type": "code",
      "source": [
        "cleanTweets = cleanTweets[cleanTweets != '']"
      ],
      "metadata": {
        "id": "_7JtLDoDp1Wp"
      },
      "execution_count": 72,
      "outputs": []
    },
    {
      "cell_type": "code",
      "source": [
        "cleanTweets[cleanTweets == ''].count()\n"
      ],
      "metadata": {
        "colab": {
          "base_uri": "https://localhost:8080/"
        },
        "id": "Eol_LUFWqKJb",
        "outputId": "ee8d53e0-387c-4738-ae04-11dad43aa8b8"
      },
      "execution_count": 73,
      "outputs": [
        {
          "output_type": "execute_result",
          "data": {
            "text/plain": [
              "0"
            ]
          },
          "metadata": {},
          "execution_count": 73
        }
      ]
    },
    {
      "cell_type": "code",
      "source": [
        "cleanTweets = cleanTweets.reset_index()"
      ],
      "metadata": {
        "id": "_8K3_lBVq1X2"
      },
      "execution_count": 15,
      "outputs": []
    },
    {
      "cell_type": "code",
      "source": [
        "cleanTweets = cleanTweets.drop('index', axis = 1)"
      ],
      "metadata": {
        "id": "03mOFueZq3tw"
      },
      "execution_count": 16,
      "outputs": []
    },
    {
      "cell_type": "code",
      "source": [
        "cleanTweets"
      ],
      "metadata": {
        "colab": {
          "base_uri": "https://localhost:8080/",
          "height": 423
        },
        "id": "6YIogg6vq_iA",
        "outputId": "fd8276eb-d905-4aa3-dda0-700f0afe212d"
      },
      "execution_count": 79,
      "outputs": [
        {
          "output_type": "execute_result",
          "data": {
            "text/plain": [
              "                                                   content\n",
              "0        Awww that's a bummer You shoulda got David Car...\n",
              "1        is upset that he can't update his Facebook by ...\n",
              "2        I dived many times for the ball Managed to sav...\n",
              "3           my whole body feels itchy and like its on fire\n",
              "4        no it's not behaving at all i'm mad why am i h...\n",
              "...                                                    ...\n",
              "1596604  Just woke up Having no school is the best feel...\n",
              "1596605  TheWDBcom Very cool to hear old Walt interview...\n",
              "1596606  Are you ready for your MoJo Makeover Ask me fo...\n",
              "1596607  Happy 38th Birthday to my boo of alll time Tup...\n",
              "1596608                                              happy\n",
              "\n",
              "[1596609 rows x 1 columns]"
            ],
            "text/html": [
              "\n",
              "  <div id=\"df-36146d6e-be85-4700-92eb-0410e1a81079\" class=\"colab-df-container\">\n",
              "    <div>\n",
              "<style scoped>\n",
              "    .dataframe tbody tr th:only-of-type {\n",
              "        vertical-align: middle;\n",
              "    }\n",
              "\n",
              "    .dataframe tbody tr th {\n",
              "        vertical-align: top;\n",
              "    }\n",
              "\n",
              "    .dataframe thead th {\n",
              "        text-align: right;\n",
              "    }\n",
              "</style>\n",
              "<table border=\"1\" class=\"dataframe\">\n",
              "  <thead>\n",
              "    <tr style=\"text-align: right;\">\n",
              "      <th></th>\n",
              "      <th>content</th>\n",
              "    </tr>\n",
              "  </thead>\n",
              "  <tbody>\n",
              "    <tr>\n",
              "      <th>0</th>\n",
              "      <td>Awww that's a bummer You shoulda got David Car...</td>\n",
              "    </tr>\n",
              "    <tr>\n",
              "      <th>1</th>\n",
              "      <td>is upset that he can't update his Facebook by ...</td>\n",
              "    </tr>\n",
              "    <tr>\n",
              "      <th>2</th>\n",
              "      <td>I dived many times for the ball Managed to sav...</td>\n",
              "    </tr>\n",
              "    <tr>\n",
              "      <th>3</th>\n",
              "      <td>my whole body feels itchy and like its on fire</td>\n",
              "    </tr>\n",
              "    <tr>\n",
              "      <th>4</th>\n",
              "      <td>no it's not behaving at all i'm mad why am i h...</td>\n",
              "    </tr>\n",
              "    <tr>\n",
              "      <th>...</th>\n",
              "      <td>...</td>\n",
              "    </tr>\n",
              "    <tr>\n",
              "      <th>1596604</th>\n",
              "      <td>Just woke up Having no school is the best feel...</td>\n",
              "    </tr>\n",
              "    <tr>\n",
              "      <th>1596605</th>\n",
              "      <td>TheWDBcom Very cool to hear old Walt interview...</td>\n",
              "    </tr>\n",
              "    <tr>\n",
              "      <th>1596606</th>\n",
              "      <td>Are you ready for your MoJo Makeover Ask me fo...</td>\n",
              "    </tr>\n",
              "    <tr>\n",
              "      <th>1596607</th>\n",
              "      <td>Happy 38th Birthday to my boo of alll time Tup...</td>\n",
              "    </tr>\n",
              "    <tr>\n",
              "      <th>1596608</th>\n",
              "      <td>happy</td>\n",
              "    </tr>\n",
              "  </tbody>\n",
              "</table>\n",
              "<p>1596609 rows × 1 columns</p>\n",
              "</div>\n",
              "    <div class=\"colab-df-buttons\">\n",
              "\n",
              "  <div class=\"colab-df-container\">\n",
              "    <button class=\"colab-df-convert\" onclick=\"convertToInteractive('df-36146d6e-be85-4700-92eb-0410e1a81079')\"\n",
              "            title=\"Convert this dataframe to an interactive table.\"\n",
              "            style=\"display:none;\">\n",
              "\n",
              "  <svg xmlns=\"http://www.w3.org/2000/svg\" height=\"24px\" viewBox=\"0 -960 960 960\">\n",
              "    <path d=\"M120-120v-720h720v720H120Zm60-500h600v-160H180v160Zm220 220h160v-160H400v160Zm0 220h160v-160H400v160ZM180-400h160v-160H180v160Zm440 0h160v-160H620v160ZM180-180h160v-160H180v160Zm440 0h160v-160H620v160Z\"/>\n",
              "  </svg>\n",
              "    </button>\n",
              "\n",
              "  <style>\n",
              "    .colab-df-container {\n",
              "      display:flex;\n",
              "      gap: 12px;\n",
              "    }\n",
              "\n",
              "    .colab-df-convert {\n",
              "      background-color: #E8F0FE;\n",
              "      border: none;\n",
              "      border-radius: 50%;\n",
              "      cursor: pointer;\n",
              "      display: none;\n",
              "      fill: #1967D2;\n",
              "      height: 32px;\n",
              "      padding: 0 0 0 0;\n",
              "      width: 32px;\n",
              "    }\n",
              "\n",
              "    .colab-df-convert:hover {\n",
              "      background-color: #E2EBFA;\n",
              "      box-shadow: 0px 1px 2px rgba(60, 64, 67, 0.3), 0px 1px 3px 1px rgba(60, 64, 67, 0.15);\n",
              "      fill: #174EA6;\n",
              "    }\n",
              "\n",
              "    .colab-df-buttons div {\n",
              "      margin-bottom: 4px;\n",
              "    }\n",
              "\n",
              "    [theme=dark] .colab-df-convert {\n",
              "      background-color: #3B4455;\n",
              "      fill: #D2E3FC;\n",
              "    }\n",
              "\n",
              "    [theme=dark] .colab-df-convert:hover {\n",
              "      background-color: #434B5C;\n",
              "      box-shadow: 0px 1px 3px 1px rgba(0, 0, 0, 0.15);\n",
              "      filter: drop-shadow(0px 1px 2px rgba(0, 0, 0, 0.3));\n",
              "      fill: #FFFFFF;\n",
              "    }\n",
              "  </style>\n",
              "\n",
              "    <script>\n",
              "      const buttonEl =\n",
              "        document.querySelector('#df-36146d6e-be85-4700-92eb-0410e1a81079 button.colab-df-convert');\n",
              "      buttonEl.style.display =\n",
              "        google.colab.kernel.accessAllowed ? 'block' : 'none';\n",
              "\n",
              "      async function convertToInteractive(key) {\n",
              "        const element = document.querySelector('#df-36146d6e-be85-4700-92eb-0410e1a81079');\n",
              "        const dataTable =\n",
              "          await google.colab.kernel.invokeFunction('convertToInteractive',\n",
              "                                                    [key], {});\n",
              "        if (!dataTable) return;\n",
              "\n",
              "        const docLinkHtml = 'Like what you see? Visit the ' +\n",
              "          '<a target=\"_blank\" href=https://colab.research.google.com/notebooks/data_table.ipynb>data table notebook</a>'\n",
              "          + ' to learn more about interactive tables.';\n",
              "        element.innerHTML = '';\n",
              "        dataTable['output_type'] = 'display_data';\n",
              "        await google.colab.output.renderOutput(dataTable, element);\n",
              "        const docLink = document.createElement('div');\n",
              "        docLink.innerHTML = docLinkHtml;\n",
              "        element.appendChild(docLink);\n",
              "      }\n",
              "    </script>\n",
              "  </div>\n",
              "\n",
              "\n",
              "<div id=\"df-a1b8df88-4ed7-41e4-9664-89545f230b62\">\n",
              "  <button class=\"colab-df-quickchart\" onclick=\"quickchart('df-a1b8df88-4ed7-41e4-9664-89545f230b62')\"\n",
              "            title=\"Suggest charts\"\n",
              "            style=\"display:none;\">\n",
              "\n",
              "<svg xmlns=\"http://www.w3.org/2000/svg\" height=\"24px\"viewBox=\"0 0 24 24\"\n",
              "     width=\"24px\">\n",
              "    <g>\n",
              "        <path d=\"M19 3H5c-1.1 0-2 .9-2 2v14c0 1.1.9 2 2 2h14c1.1 0 2-.9 2-2V5c0-1.1-.9-2-2-2zM9 17H7v-7h2v7zm4 0h-2V7h2v10zm4 0h-2v-4h2v4z\"/>\n",
              "    </g>\n",
              "</svg>\n",
              "  </button>\n",
              "\n",
              "<style>\n",
              "  .colab-df-quickchart {\n",
              "      --bg-color: #E8F0FE;\n",
              "      --fill-color: #1967D2;\n",
              "      --hover-bg-color: #E2EBFA;\n",
              "      --hover-fill-color: #174EA6;\n",
              "      --disabled-fill-color: #AAA;\n",
              "      --disabled-bg-color: #DDD;\n",
              "  }\n",
              "\n",
              "  [theme=dark] .colab-df-quickchart {\n",
              "      --bg-color: #3B4455;\n",
              "      --fill-color: #D2E3FC;\n",
              "      --hover-bg-color: #434B5C;\n",
              "      --hover-fill-color: #FFFFFF;\n",
              "      --disabled-bg-color: #3B4455;\n",
              "      --disabled-fill-color: #666;\n",
              "  }\n",
              "\n",
              "  .colab-df-quickchart {\n",
              "    background-color: var(--bg-color);\n",
              "    border: none;\n",
              "    border-radius: 50%;\n",
              "    cursor: pointer;\n",
              "    display: none;\n",
              "    fill: var(--fill-color);\n",
              "    height: 32px;\n",
              "    padding: 0;\n",
              "    width: 32px;\n",
              "  }\n",
              "\n",
              "  .colab-df-quickchart:hover {\n",
              "    background-color: var(--hover-bg-color);\n",
              "    box-shadow: 0 1px 2px rgba(60, 64, 67, 0.3), 0 1px 3px 1px rgba(60, 64, 67, 0.15);\n",
              "    fill: var(--button-hover-fill-color);\n",
              "  }\n",
              "\n",
              "  .colab-df-quickchart-complete:disabled,\n",
              "  .colab-df-quickchart-complete:disabled:hover {\n",
              "    background-color: var(--disabled-bg-color);\n",
              "    fill: var(--disabled-fill-color);\n",
              "    box-shadow: none;\n",
              "  }\n",
              "\n",
              "  .colab-df-spinner {\n",
              "    border: 2px solid var(--fill-color);\n",
              "    border-color: transparent;\n",
              "    border-bottom-color: var(--fill-color);\n",
              "    animation:\n",
              "      spin 1s steps(1) infinite;\n",
              "  }\n",
              "\n",
              "  @keyframes spin {\n",
              "    0% {\n",
              "      border-color: transparent;\n",
              "      border-bottom-color: var(--fill-color);\n",
              "      border-left-color: var(--fill-color);\n",
              "    }\n",
              "    20% {\n",
              "      border-color: transparent;\n",
              "      border-left-color: var(--fill-color);\n",
              "      border-top-color: var(--fill-color);\n",
              "    }\n",
              "    30% {\n",
              "      border-color: transparent;\n",
              "      border-left-color: var(--fill-color);\n",
              "      border-top-color: var(--fill-color);\n",
              "      border-right-color: var(--fill-color);\n",
              "    }\n",
              "    40% {\n",
              "      border-color: transparent;\n",
              "      border-right-color: var(--fill-color);\n",
              "      border-top-color: var(--fill-color);\n",
              "    }\n",
              "    60% {\n",
              "      border-color: transparent;\n",
              "      border-right-color: var(--fill-color);\n",
              "    }\n",
              "    80% {\n",
              "      border-color: transparent;\n",
              "      border-right-color: var(--fill-color);\n",
              "      border-bottom-color: var(--fill-color);\n",
              "    }\n",
              "    90% {\n",
              "      border-color: transparent;\n",
              "      border-bottom-color: var(--fill-color);\n",
              "    }\n",
              "  }\n",
              "</style>\n",
              "\n",
              "  <script>\n",
              "    async function quickchart(key) {\n",
              "      const quickchartButtonEl =\n",
              "        document.querySelector('#' + key + ' button');\n",
              "      quickchartButtonEl.disabled = true;  // To prevent multiple clicks.\n",
              "      quickchartButtonEl.classList.add('colab-df-spinner');\n",
              "      try {\n",
              "        const charts = await google.colab.kernel.invokeFunction(\n",
              "            'suggestCharts', [key], {});\n",
              "      } catch (error) {\n",
              "        console.error('Error during call to suggestCharts:', error);\n",
              "      }\n",
              "      quickchartButtonEl.classList.remove('colab-df-spinner');\n",
              "      quickchartButtonEl.classList.add('colab-df-quickchart-complete');\n",
              "    }\n",
              "    (() => {\n",
              "      let quickchartButtonEl =\n",
              "        document.querySelector('#df-a1b8df88-4ed7-41e4-9664-89545f230b62 button');\n",
              "      quickchartButtonEl.style.display =\n",
              "        google.colab.kernel.accessAllowed ? 'block' : 'none';\n",
              "    })();\n",
              "  </script>\n",
              "</div>\n",
              "    </div>\n",
              "  </div>\n"
            ]
          },
          "metadata": {},
          "execution_count": 79
        }
      ]
    },
    {
      "cell_type": "code",
      "source": [
        "def lowerAll(string : str) -> str:\n",
        "  return string.lower()"
      ],
      "metadata": {
        "id": "GtTkPHysrKes"
      },
      "execution_count": 81,
      "outputs": []
    },
    {
      "cell_type": "code",
      "source": [
        "cleanTweets = cleanTweets.content.apply(lowerAll)"
      ],
      "metadata": {
        "id": "PxtLy10GrwrQ"
      },
      "execution_count": 85,
      "outputs": []
    },
    {
      "cell_type": "code",
      "source": [
        "cleanTweets"
      ],
      "metadata": {
        "colab": {
          "base_uri": "https://localhost:8080/"
        },
        "id": "CPdXfQW-r-eD",
        "outputId": "455628c9-371b-4fe7-ea7c-437577f14cdb"
      },
      "execution_count": 86,
      "outputs": [
        {
          "output_type": "execute_result",
          "data": {
            "text/plain": [
              "0          awww that's a bummer you shoulda got david car...\n",
              "1          is upset that he can't update his facebook by ...\n",
              "2          i dived many times for the ball managed to sav...\n",
              "3             my whole body feels itchy and like its on fire\n",
              "4          no it's not behaving at all i'm mad why am i h...\n",
              "                                 ...                        \n",
              "1596604    just woke up having no school is the best feel...\n",
              "1596605    thewdbcom very cool to hear old walt interview...\n",
              "1596606    are you ready for your mojo makeover ask me fo...\n",
              "1596607    happy 38th birthday to my boo of alll time tup...\n",
              "1596608                                                happy\n",
              "Name: content, Length: 1596609, dtype: object"
            ]
          },
          "metadata": {},
          "execution_count": 86
        }
      ]
    },
    {
      "cell_type": "code",
      "source": [
        "wordCount = cleanTweets.str.split().str.len()"
      ],
      "metadata": {
        "id": "xU11aqC5sIph"
      },
      "execution_count": 13,
      "outputs": []
    },
    {
      "cell_type": "code",
      "source": [
        "wordCount"
      ],
      "metadata": {
        "colab": {
          "base_uri": "https://localhost:8080/"
        },
        "id": "Dk5exFjJtWFt",
        "outputId": "ff8684d3-e64b-4d74-9b77-555e30b847af"
      },
      "execution_count": 88,
      "outputs": [
        {
          "output_type": "execute_result",
          "data": {
            "text/plain": [
              "0          16\n",
              "1          21\n",
              "2          17\n",
              "3          10\n",
              "4          20\n",
              "           ..\n",
              "1596604    11\n",
              "1596605    10\n",
              "1596606    11\n",
              "1596607    12\n",
              "1596608     1\n",
              "Name: content, Length: 1596609, dtype: int64"
            ]
          },
          "metadata": {},
          "execution_count": 88
        }
      ]
    },
    {
      "cell_type": "code",
      "source": [
        "cleanTweets = cleanTweets[wordCount > 1]"
      ],
      "metadata": {
        "id": "i16ttgZYtYG0"
      },
      "execution_count": 14,
      "outputs": []
    },
    {
      "cell_type": "code",
      "source": [
        "cleanTweets"
      ],
      "metadata": {
        "colab": {
          "base_uri": "https://localhost:8080/",
          "height": 423
        },
        "id": "G3OGPEb4tewm",
        "outputId": "ae0d6082-4fa4-4fc7-e0bf-b7196a0bc8e2"
      },
      "execution_count": 17,
      "outputs": [
        {
          "output_type": "execute_result",
          "data": {
            "text/plain": [
              "                                                   content\n",
              "0           Awww that's a bummer  You shoulda got David...\n",
              "1        is upset that he can't update his Facebook by ...\n",
              "2         I dived many times for the ball Managed to sa...\n",
              "3          my whole body feels itchy and like its on fire \n",
              "4         no it's not behaving at all i'm mad why am i ...\n",
              "...                                                    ...\n",
              "1581538   Yeah that does work better than just waiting ...\n",
              "1581539  Just woke up Having no school is the best feel...\n",
              "1581540  TheWDBcom  Very cool to hear old Walt intervie...\n",
              "1581541  Are you ready for your MoJo Makeover Ask me fo...\n",
              "1581542  Happy 38th Birthday to my boo of alll time Tup...\n",
              "\n",
              "[1581543 rows x 1 columns]"
            ],
            "text/html": [
              "\n",
              "  <div id=\"df-4ef0e2aa-9514-4cca-95fc-767691265089\" class=\"colab-df-container\">\n",
              "    <div>\n",
              "<style scoped>\n",
              "    .dataframe tbody tr th:only-of-type {\n",
              "        vertical-align: middle;\n",
              "    }\n",
              "\n",
              "    .dataframe tbody tr th {\n",
              "        vertical-align: top;\n",
              "    }\n",
              "\n",
              "    .dataframe thead th {\n",
              "        text-align: right;\n",
              "    }\n",
              "</style>\n",
              "<table border=\"1\" class=\"dataframe\">\n",
              "  <thead>\n",
              "    <tr style=\"text-align: right;\">\n",
              "      <th></th>\n",
              "      <th>content</th>\n",
              "    </tr>\n",
              "  </thead>\n",
              "  <tbody>\n",
              "    <tr>\n",
              "      <th>0</th>\n",
              "      <td>Awww that's a bummer  You shoulda got David...</td>\n",
              "    </tr>\n",
              "    <tr>\n",
              "      <th>1</th>\n",
              "      <td>is upset that he can't update his Facebook by ...</td>\n",
              "    </tr>\n",
              "    <tr>\n",
              "      <th>2</th>\n",
              "      <td>I dived many times for the ball Managed to sa...</td>\n",
              "    </tr>\n",
              "    <tr>\n",
              "      <th>3</th>\n",
              "      <td>my whole body feels itchy and like its on fire</td>\n",
              "    </tr>\n",
              "    <tr>\n",
              "      <th>4</th>\n",
              "      <td>no it's not behaving at all i'm mad why am i ...</td>\n",
              "    </tr>\n",
              "    <tr>\n",
              "      <th>...</th>\n",
              "      <td>...</td>\n",
              "    </tr>\n",
              "    <tr>\n",
              "      <th>1581538</th>\n",
              "      <td>Yeah that does work better than just waiting ...</td>\n",
              "    </tr>\n",
              "    <tr>\n",
              "      <th>1581539</th>\n",
              "      <td>Just woke up Having no school is the best feel...</td>\n",
              "    </tr>\n",
              "    <tr>\n",
              "      <th>1581540</th>\n",
              "      <td>TheWDBcom  Very cool to hear old Walt intervie...</td>\n",
              "    </tr>\n",
              "    <tr>\n",
              "      <th>1581541</th>\n",
              "      <td>Are you ready for your MoJo Makeover Ask me fo...</td>\n",
              "    </tr>\n",
              "    <tr>\n",
              "      <th>1581542</th>\n",
              "      <td>Happy 38th Birthday to my boo of alll time Tup...</td>\n",
              "    </tr>\n",
              "  </tbody>\n",
              "</table>\n",
              "<p>1581543 rows × 1 columns</p>\n",
              "</div>\n",
              "    <div class=\"colab-df-buttons\">\n",
              "\n",
              "  <div class=\"colab-df-container\">\n",
              "    <button class=\"colab-df-convert\" onclick=\"convertToInteractive('df-4ef0e2aa-9514-4cca-95fc-767691265089')\"\n",
              "            title=\"Convert this dataframe to an interactive table.\"\n",
              "            style=\"display:none;\">\n",
              "\n",
              "  <svg xmlns=\"http://www.w3.org/2000/svg\" height=\"24px\" viewBox=\"0 -960 960 960\">\n",
              "    <path d=\"M120-120v-720h720v720H120Zm60-500h600v-160H180v160Zm220 220h160v-160H400v160Zm0 220h160v-160H400v160ZM180-400h160v-160H180v160Zm440 0h160v-160H620v160ZM180-180h160v-160H180v160Zm440 0h160v-160H620v160Z\"/>\n",
              "  </svg>\n",
              "    </button>\n",
              "\n",
              "  <style>\n",
              "    .colab-df-container {\n",
              "      display:flex;\n",
              "      gap: 12px;\n",
              "    }\n",
              "\n",
              "    .colab-df-convert {\n",
              "      background-color: #E8F0FE;\n",
              "      border: none;\n",
              "      border-radius: 50%;\n",
              "      cursor: pointer;\n",
              "      display: none;\n",
              "      fill: #1967D2;\n",
              "      height: 32px;\n",
              "      padding: 0 0 0 0;\n",
              "      width: 32px;\n",
              "    }\n",
              "\n",
              "    .colab-df-convert:hover {\n",
              "      background-color: #E2EBFA;\n",
              "      box-shadow: 0px 1px 2px rgba(60, 64, 67, 0.3), 0px 1px 3px 1px rgba(60, 64, 67, 0.15);\n",
              "      fill: #174EA6;\n",
              "    }\n",
              "\n",
              "    .colab-df-buttons div {\n",
              "      margin-bottom: 4px;\n",
              "    }\n",
              "\n",
              "    [theme=dark] .colab-df-convert {\n",
              "      background-color: #3B4455;\n",
              "      fill: #D2E3FC;\n",
              "    }\n",
              "\n",
              "    [theme=dark] .colab-df-convert:hover {\n",
              "      background-color: #434B5C;\n",
              "      box-shadow: 0px 1px 3px 1px rgba(0, 0, 0, 0.15);\n",
              "      filter: drop-shadow(0px 1px 2px rgba(0, 0, 0, 0.3));\n",
              "      fill: #FFFFFF;\n",
              "    }\n",
              "  </style>\n",
              "\n",
              "    <script>\n",
              "      const buttonEl =\n",
              "        document.querySelector('#df-4ef0e2aa-9514-4cca-95fc-767691265089 button.colab-df-convert');\n",
              "      buttonEl.style.display =\n",
              "        google.colab.kernel.accessAllowed ? 'block' : 'none';\n",
              "\n",
              "      async function convertToInteractive(key) {\n",
              "        const element = document.querySelector('#df-4ef0e2aa-9514-4cca-95fc-767691265089');\n",
              "        const dataTable =\n",
              "          await google.colab.kernel.invokeFunction('convertToInteractive',\n",
              "                                                    [key], {});\n",
              "        if (!dataTable) return;\n",
              "\n",
              "        const docLinkHtml = 'Like what you see? Visit the ' +\n",
              "          '<a target=\"_blank\" href=https://colab.research.google.com/notebooks/data_table.ipynb>data table notebook</a>'\n",
              "          + ' to learn more about interactive tables.';\n",
              "        element.innerHTML = '';\n",
              "        dataTable['output_type'] = 'display_data';\n",
              "        await google.colab.output.renderOutput(dataTable, element);\n",
              "        const docLink = document.createElement('div');\n",
              "        docLink.innerHTML = docLinkHtml;\n",
              "        element.appendChild(docLink);\n",
              "      }\n",
              "    </script>\n",
              "  </div>\n",
              "\n",
              "\n",
              "<div id=\"df-c3bdb0d9-322d-4123-a6e0-a07a96759034\">\n",
              "  <button class=\"colab-df-quickchart\" onclick=\"quickchart('df-c3bdb0d9-322d-4123-a6e0-a07a96759034')\"\n",
              "            title=\"Suggest charts\"\n",
              "            style=\"display:none;\">\n",
              "\n",
              "<svg xmlns=\"http://www.w3.org/2000/svg\" height=\"24px\"viewBox=\"0 0 24 24\"\n",
              "     width=\"24px\">\n",
              "    <g>\n",
              "        <path d=\"M19 3H5c-1.1 0-2 .9-2 2v14c0 1.1.9 2 2 2h14c1.1 0 2-.9 2-2V5c0-1.1-.9-2-2-2zM9 17H7v-7h2v7zm4 0h-2V7h2v10zm4 0h-2v-4h2v4z\"/>\n",
              "    </g>\n",
              "</svg>\n",
              "  </button>\n",
              "\n",
              "<style>\n",
              "  .colab-df-quickchart {\n",
              "      --bg-color: #E8F0FE;\n",
              "      --fill-color: #1967D2;\n",
              "      --hover-bg-color: #E2EBFA;\n",
              "      --hover-fill-color: #174EA6;\n",
              "      --disabled-fill-color: #AAA;\n",
              "      --disabled-bg-color: #DDD;\n",
              "  }\n",
              "\n",
              "  [theme=dark] .colab-df-quickchart {\n",
              "      --bg-color: #3B4455;\n",
              "      --fill-color: #D2E3FC;\n",
              "      --hover-bg-color: #434B5C;\n",
              "      --hover-fill-color: #FFFFFF;\n",
              "      --disabled-bg-color: #3B4455;\n",
              "      --disabled-fill-color: #666;\n",
              "  }\n",
              "\n",
              "  .colab-df-quickchart {\n",
              "    background-color: var(--bg-color);\n",
              "    border: none;\n",
              "    border-radius: 50%;\n",
              "    cursor: pointer;\n",
              "    display: none;\n",
              "    fill: var(--fill-color);\n",
              "    height: 32px;\n",
              "    padding: 0;\n",
              "    width: 32px;\n",
              "  }\n",
              "\n",
              "  .colab-df-quickchart:hover {\n",
              "    background-color: var(--hover-bg-color);\n",
              "    box-shadow: 0 1px 2px rgba(60, 64, 67, 0.3), 0 1px 3px 1px rgba(60, 64, 67, 0.15);\n",
              "    fill: var(--button-hover-fill-color);\n",
              "  }\n",
              "\n",
              "  .colab-df-quickchart-complete:disabled,\n",
              "  .colab-df-quickchart-complete:disabled:hover {\n",
              "    background-color: var(--disabled-bg-color);\n",
              "    fill: var(--disabled-fill-color);\n",
              "    box-shadow: none;\n",
              "  }\n",
              "\n",
              "  .colab-df-spinner {\n",
              "    border: 2px solid var(--fill-color);\n",
              "    border-color: transparent;\n",
              "    border-bottom-color: var(--fill-color);\n",
              "    animation:\n",
              "      spin 1s steps(1) infinite;\n",
              "  }\n",
              "\n",
              "  @keyframes spin {\n",
              "    0% {\n",
              "      border-color: transparent;\n",
              "      border-bottom-color: var(--fill-color);\n",
              "      border-left-color: var(--fill-color);\n",
              "    }\n",
              "    20% {\n",
              "      border-color: transparent;\n",
              "      border-left-color: var(--fill-color);\n",
              "      border-top-color: var(--fill-color);\n",
              "    }\n",
              "    30% {\n",
              "      border-color: transparent;\n",
              "      border-left-color: var(--fill-color);\n",
              "      border-top-color: var(--fill-color);\n",
              "      border-right-color: var(--fill-color);\n",
              "    }\n",
              "    40% {\n",
              "      border-color: transparent;\n",
              "      border-right-color: var(--fill-color);\n",
              "      border-top-color: var(--fill-color);\n",
              "    }\n",
              "    60% {\n",
              "      border-color: transparent;\n",
              "      border-right-color: var(--fill-color);\n",
              "    }\n",
              "    80% {\n",
              "      border-color: transparent;\n",
              "      border-right-color: var(--fill-color);\n",
              "      border-bottom-color: var(--fill-color);\n",
              "    }\n",
              "    90% {\n",
              "      border-color: transparent;\n",
              "      border-bottom-color: var(--fill-color);\n",
              "    }\n",
              "  }\n",
              "</style>\n",
              "\n",
              "  <script>\n",
              "    async function quickchart(key) {\n",
              "      const quickchartButtonEl =\n",
              "        document.querySelector('#' + key + ' button');\n",
              "      quickchartButtonEl.disabled = true;  // To prevent multiple clicks.\n",
              "      quickchartButtonEl.classList.add('colab-df-spinner');\n",
              "      try {\n",
              "        const charts = await google.colab.kernel.invokeFunction(\n",
              "            'suggestCharts', [key], {});\n",
              "      } catch (error) {\n",
              "        console.error('Error during call to suggestCharts:', error);\n",
              "      }\n",
              "      quickchartButtonEl.classList.remove('colab-df-spinner');\n",
              "      quickchartButtonEl.classList.add('colab-df-quickchart-complete');\n",
              "    }\n",
              "    (() => {\n",
              "      let quickchartButtonEl =\n",
              "        document.querySelector('#df-c3bdb0d9-322d-4123-a6e0-a07a96759034 button');\n",
              "      quickchartButtonEl.style.display =\n",
              "        google.colab.kernel.accessAllowed ? 'block' : 'none';\n",
              "    })();\n",
              "  </script>\n",
              "</div>\n",
              "    </div>\n",
              "  </div>\n"
            ]
          },
          "metadata": {},
          "execution_count": 17
        }
      ]
    },
    {
      "cell_type": "code",
      "source": [
        "from tensorflow.keras.preprocessing.text import Tokenizer\n",
        "tokenizer = Tokenizer()"
      ],
      "metadata": {
        "id": "-jzJDq8YtpmM"
      },
      "execution_count": 9,
      "outputs": []
    },
    {
      "cell_type": "code",
      "source": [
        "data = cleanTweets.content.to_list()[:1000]"
      ],
      "metadata": {
        "id": "vUeNYeoZwh6p"
      },
      "execution_count": 17,
      "outputs": []
    },
    {
      "cell_type": "code",
      "source": [
        "len(data)"
      ],
      "metadata": {
        "colab": {
          "base_uri": "https://localhost:8080/"
        },
        "id": "9336UuSt2VLy",
        "outputId": "87b7640a-cb64-4781-9fc5-d1092442c046"
      },
      "execution_count": 18,
      "outputs": [
        {
          "output_type": "execute_result",
          "data": {
            "text/plain": [
              "1000"
            ]
          },
          "metadata": {},
          "execution_count": 18
        }
      ]
    },
    {
      "cell_type": "code",
      "source": [
        "tokenizer.fit_on_texts([*data])"
      ],
      "metadata": {
        "id": "a_jUlNs4vb_c"
      },
      "execution_count": 19,
      "outputs": []
    },
    {
      "cell_type": "code",
      "source": [
        "tokenizer.word_index"
      ],
      "metadata": {
        "colab": {
          "base_uri": "https://localhost:8080/"
        },
        "id": "7LN_K4TB5x-1",
        "outputId": "61c4c26e-6458-48a4-dcb7-f55938fb8a66"
      },
      "execution_count": 23,
      "outputs": [
        {
          "output_type": "execute_result",
          "data": {
            "text/plain": [
              "{'i': 1,\n",
              " 'to': 2,\n",
              " 'the': 3,\n",
              " 'a': 4,\n",
              " 'my': 5,\n",
              " 'and': 6,\n",
              " 'is': 7,\n",
              " 'in': 8,\n",
              " 'it': 9,\n",
              " 'for': 10,\n",
              " 'of': 11,\n",
              " 'me': 12,\n",
              " 'on': 13,\n",
              " 'you': 14,\n",
              " 'have': 15,\n",
              " 'but': 16,\n",
              " 'so': 17,\n",
              " 'not': 18,\n",
              " 'that': 19,\n",
              " \"i'm\": 20,\n",
              " 'at': 21,\n",
              " 'just': 22,\n",
              " 'be': 23,\n",
              " 'was': 24,\n",
              " 'work': 25,\n",
              " 'this': 26,\n",
              " 'up': 27,\n",
              " 'no': 28,\n",
              " 'with': 29,\n",
              " 'now': 30,\n",
              " 'go': 31,\n",
              " 'get': 32,\n",
              " 'out': 33,\n",
              " 'day': 34,\n",
              " 'back': 35,\n",
              " 'all': 36,\n",
              " 'today': 37,\n",
              " 'like': 38,\n",
              " 'too': 39,\n",
              " 'do': 40,\n",
              " \"it's\": 41,\n",
              " 'going': 42,\n",
              " 'are': 43,\n",
              " 'got': 44,\n",
              " \"don't\": 45,\n",
              " \"can't\": 46,\n",
              " 'am': 47,\n",
              " 'still': 48,\n",
              " 'good': 49,\n",
              " 'want': 50,\n",
              " 'really': 51,\n",
              " 'had': 52,\n",
              " 'time': 53,\n",
              " 'from': 54,\n",
              " 'im': 55,\n",
              " 'about': 56,\n",
              " 'one': 57,\n",
              " 'what': 58,\n",
              " 'quot': 59,\n",
              " 'its': 60,\n",
              " 'last': 61,\n",
              " 'sad': 62,\n",
              " 'miss': 63,\n",
              " 'has': 64,\n",
              " 'sleep': 65,\n",
              " 'know': 66,\n",
              " 'home': 67,\n",
              " 'need': 68,\n",
              " 'night': 69,\n",
              " 'will': 70,\n",
              " 'wish': 71,\n",
              " 'think': 72,\n",
              " 'some': 73,\n",
              " 'we': 74,\n",
              " 'off': 75,\n",
              " '2': 76,\n",
              " 'when': 77,\n",
              " 'oh': 78,\n",
              " 'tomorrow': 79,\n",
              " 'school': 80,\n",
              " 'much': 81,\n",
              " 'why': 82,\n",
              " 'again': 83,\n",
              " 'as': 84,\n",
              " 'bad': 85,\n",
              " 'more': 86,\n",
              " 'your': 87,\n",
              " 'morning': 88,\n",
              " 'feel': 89,\n",
              " 'can': 90,\n",
              " 'amp': 91,\n",
              " 'there': 92,\n",
              " 'how': 93,\n",
              " 'well': 94,\n",
              " 'they': 95,\n",
              " 'been': 96,\n",
              " 'see': 97,\n",
              " 'lol': 98,\n",
              " 'sorry': 99,\n",
              " 'here': 100,\n",
              " 'an': 101,\n",
              " 'u': 102,\n",
              " 'if': 103,\n",
              " 'only': 104,\n",
              " 'her': 105,\n",
              " 'then': 106,\n",
              " 'hate': 107,\n",
              " 'bed': 108,\n",
              " 'though': 109,\n",
              " 'sick': 110,\n",
              " 'or': 111,\n",
              " 'love': 112,\n",
              " 'over': 113,\n",
              " 'getting': 114,\n",
              " 'he': 115,\n",
              " 'very': 116,\n",
              " \"didn't\": 117,\n",
              " 'twitter': 118,\n",
              " 'hope': 119,\n",
              " 'new': 120,\n",
              " 'would': 121,\n",
              " 'right': 122,\n",
              " 'she': 123,\n",
              " 'could': 124,\n",
              " 'week': 125,\n",
              " 'tired': 126,\n",
              " 'by': 127,\n",
              " 'feeling': 128,\n",
              " 'did': 129,\n",
              " 'cant': 130,\n",
              " 'even': 131,\n",
              " 'make': 132,\n",
              " '3': 133,\n",
              " 'way': 134,\n",
              " 'tonight': 135,\n",
              " 'come': 136,\n",
              " 'working': 137,\n",
              " 'dont': 138,\n",
              " \"i've\": 139,\n",
              " 'them': 140,\n",
              " 'gonna': 141,\n",
              " 'wanna': 142,\n",
              " 'after': 143,\n",
              " 'down': 144,\n",
              " 'never': 145,\n",
              " 'being': 146,\n",
              " 'better': 147,\n",
              " 'days': 148,\n",
              " 'fun': 149,\n",
              " 'people': 150,\n",
              " 'doing': 151,\n",
              " 'any': 152,\n",
              " 'lost': 153,\n",
              " 'hours': 154,\n",
              " 'should': 155,\n",
              " \"i'll\": 156,\n",
              " 'him': 157,\n",
              " 'find': 158,\n",
              " 'early': 159,\n",
              " 'were': 160,\n",
              " 'weekend': 161,\n",
              " 'already': 162,\n",
              " 'having': 163,\n",
              " 'cold': 164,\n",
              " 'great': 165,\n",
              " 'another': 166,\n",
              " 'yet': 167,\n",
              " 'watching': 168,\n",
              " 'long': 169,\n",
              " 'damn': 170,\n",
              " 'yeah': 171,\n",
              " \"doesn't\": 172,\n",
              " 'trying': 173,\n",
              " 'next': 174,\n",
              " 'sucks': 175,\n",
              " 'because': 176,\n",
              " '4': 177,\n",
              " 'away': 178,\n",
              " 'soon': 179,\n",
              " 'haha': 180,\n",
              " 'missed': 181,\n",
              " \"that's\": 182,\n",
              " 'nice': 183,\n",
              " 'bored': 184,\n",
              " 'before': 185,\n",
              " 'than': 186,\n",
              " 'little': 187,\n",
              " 'phone': 188,\n",
              " 'went': 189,\n",
              " 'his': 190,\n",
              " 'left': 191,\n",
              " 'ugh': 192,\n",
              " 'done': 193,\n",
              " 'take': 194,\n",
              " 'where': 195,\n",
              " 'poor': 196,\n",
              " 'thing': 197,\n",
              " 'missing': 198,\n",
              " 'first': 199,\n",
              " 'someone': 200,\n",
              " 'our': 201,\n",
              " 'ready': 202,\n",
              " 'wait': 203,\n",
              " 'who': 204,\n",
              " 'man': 205,\n",
              " 'something': 206,\n",
              " 'house': 207,\n",
              " 'rain': 208,\n",
              " 'looking': 209,\n",
              " 'woke': 210,\n",
              " \"won't\": 211,\n",
              " 'watch': 212,\n",
              " 'life': 213,\n",
              " 'ok': 214,\n",
              " 'friends': 215,\n",
              " 'weather': 216,\n",
              " 'show': 217,\n",
              " 'always': 218,\n",
              " 'nothing': 219,\n",
              " 'hurts': 220,\n",
              " 'please': 221,\n",
              " 'late': 222,\n",
              " 'sun': 223,\n",
              " 'clean': 224,\n",
              " 'hard': 225,\n",
              " 'old': 226,\n",
              " 'made': 227,\n",
              " 'monday': 228,\n",
              " 'outside': 229,\n",
              " 'us': 230,\n",
              " 'gone': 231,\n",
              " 'start': 232,\n",
              " 'guess': 233,\n",
              " 'keep': 234,\n",
              " 'into': 235,\n",
              " 'yesterday': 236,\n",
              " 'help': 237,\n",
              " 'does': 238,\n",
              " 'ever': 239,\n",
              " 'stuck': 240,\n",
              " '1': 241,\n",
              " 'looks': 242,\n",
              " 'hot': 243,\n",
              " 'omg': 244,\n",
              " 'bit': 245,\n",
              " 'thanks': 246,\n",
              " 'things': 247,\n",
              " 'car': 248,\n",
              " 'coming': 249,\n",
              " 'happy': 250,\n",
              " \"isn't\": 251,\n",
              " 'lt': 252,\n",
              " 'gotta': 253,\n",
              " 'x': 254,\n",
              " 'since': 255,\n",
              " 'same': 256,\n",
              " 'thought': 257,\n",
              " 'until': 258,\n",
              " 'sure': 259,\n",
              " 'head': 260,\n",
              " 'hear': 261,\n",
              " '5': 262,\n",
              " 'everyone': 263,\n",
              " 'say': 264,\n",
              " 'two': 265,\n",
              " \"haven't\": 266,\n",
              " 'other': 267,\n",
              " 'waiting': 268,\n",
              " 'pretty': 269,\n",
              " 'stupid': 270,\n",
              " 'yes': 271,\n",
              " 'year': 272,\n",
              " 'let': 273,\n",
              " \"you're\": 274,\n",
              " 'sunday': 275,\n",
              " 'play': 276,\n",
              " 'myself': 277,\n",
              " 'while': 278,\n",
              " 'best': 279,\n",
              " 'homework': 280,\n",
              " 'didnt': 281,\n",
              " 'game': 282,\n",
              " 'maybe': 283,\n",
              " 'stuff': 284,\n",
              " 'end': 285,\n",
              " 'may': 286,\n",
              " 'actually': 287,\n",
              " 'many': 288,\n",
              " 'break': 289,\n",
              " 'stop': 290,\n",
              " 'also': 291,\n",
              " 'wants': 292,\n",
              " 'leave': 293,\n",
              " 'anything': 294,\n",
              " 'headache': 295,\n",
              " 'hour': 296,\n",
              " 'without': 297,\n",
              " 'believe': 298,\n",
              " 'far': 299,\n",
              " 'guys': 300,\n",
              " 'anymore': 301,\n",
              " 'makes': 302,\n",
              " 'awake': 303,\n",
              " 'wanted': 304,\n",
              " 'big': 305,\n",
              " 'try': 306,\n",
              " 'shit': 307,\n",
              " 'baby': 308,\n",
              " 'almost': 309,\n",
              " 'few': 310,\n",
              " 'class': 311,\n",
              " 'later': 312,\n",
              " 'might': 313,\n",
              " 'look': 314,\n",
              " 'tho': 315,\n",
              " 'weeks': 316,\n",
              " 'anyone': 317,\n",
              " 'must': 318,\n",
              " 'till': 319,\n",
              " 'such': 320,\n",
              " 'god': 321,\n",
              " 'finally': 322,\n",
              " 'live': 323,\n",
              " 'around': 324,\n",
              " 'aww': 325,\n",
              " 'hey': 326,\n",
              " 'boo': 327,\n",
              " 'ill': 328,\n",
              " 'found': 329,\n",
              " 'said': 330,\n",
              " 'n': 331,\n",
              " 'raining': 332,\n",
              " 'room': 333,\n",
              " 'girl': 334,\n",
              " 'put': 335,\n",
              " 'use': 336,\n",
              " 'boring': 337,\n",
              " 'wrong': 338,\n",
              " 'movie': 339,\n",
              " 'wow': 340,\n",
              " 'saw': 341,\n",
              " 'making': 342,\n",
              " 'tell': 343,\n",
              " 'thinking': 344,\n",
              " 'saturday': 345,\n",
              " 'these': 346,\n",
              " 'tweet': 347,\n",
              " 'their': 348,\n",
              " 'through': 349,\n",
              " 'times': 350,\n",
              " 'friend': 351,\n",
              " 'ur': 352,\n",
              " 'those': 353,\n",
              " 'forgot': 354,\n",
              " \"couldn't\": 355,\n",
              " 'enough': 356,\n",
              " 'mean': 357,\n",
              " 'eat': 358,\n",
              " 'talk': 359,\n",
              " 'call': 360,\n",
              " 'hurt': 361,\n",
              " 'busy': 362,\n",
              " 'most': 363,\n",
              " 'coffee': 364,\n",
              " 'party': 365,\n",
              " '10': 366,\n",
              " 'lot': 367,\n",
              " 'probably': 368,\n",
              " \"wasn't\": 369,\n",
              " 'alone': 370,\n",
              " 'office': 371,\n",
              " 'which': 372,\n",
              " 'feels': 373,\n",
              " 'read': 374,\n",
              " 'w': 375,\n",
              " 'cool': 376,\n",
              " 'least': 377,\n",
              " 'sunny': 378,\n",
              " 'internet': 379,\n",
              " 'everything': 380,\n",
              " 'pain': 381,\n",
              " 'thats': 382,\n",
              " 'totally': 383,\n",
              " 'finished': 384,\n",
              " 'world': 385,\n",
              " 'either': 386,\n",
              " 'awesome': 387,\n",
              " 'food': 388,\n",
              " 'music': 389,\n",
              " 'money': 390,\n",
              " 'beautiful': 391,\n",
              " 'yay': 392,\n",
              " 'luck': 393,\n",
              " 'tried': 394,\n",
              " 'playing': 395,\n",
              " 'needs': 396,\n",
              " 'job': 397,\n",
              " 'sore': 398,\n",
              " 'able': 399,\n",
              " 'crap': 400,\n",
              " 'spring': 401,\n",
              " 'throat': 402,\n",
              " 'give': 403,\n",
              " 'forward': 404,\n",
              " 'stay': 405,\n",
              " 'cry': 406,\n",
              " 'study': 407,\n",
              " 'every': 408,\n",
              " 'seems': 409,\n",
              " 'lonely': 410,\n",
              " 'taking': 411,\n",
              " 'mine': 412,\n",
              " 'dog': 413,\n",
              " 'computer': 414,\n",
              " \"he's\": 415,\n",
              " 'hell': 416,\n",
              " \"i'd\": 417,\n",
              " 'asleep': 418,\n",
              " 'gt': 419,\n",
              " 'o': 420,\n",
              " '6': 421,\n",
              " 'hair': 422,\n",
              " 'tv': 423,\n",
              " 'sleeping': 424,\n",
              " 'says': 425,\n",
              " 'college': 426,\n",
              " 'b': 427,\n",
              " 'run': 428,\n",
              " 'broke': 429,\n",
              " 'hungry': 430,\n",
              " 'okay': 431,\n",
              " 'summer': 432,\n",
              " 'sooo': 433,\n",
              " 'sitting': 434,\n",
              " 'family': 435,\n",
              " 'wake': 436,\n",
              " 'mom': 437,\n",
              " 'kids': 438,\n",
              " 'cause': 439,\n",
              " 'leaving': 440,\n",
              " 'unfortunately': 441,\n",
              " 'real': 442,\n",
              " 'kinda': 443,\n",
              " 'seen': 444,\n",
              " 'half': 445,\n",
              " 'lunch': 446,\n",
              " 'sigh': 447,\n",
              " 'else': 448,\n",
              " 'place': 449,\n",
              " 'dead': 450,\n",
              " 'wont': 451,\n",
              " 'r': 452,\n",
              " 'buy': 453,\n",
              " 'ago': 454,\n",
              " \"there's\": 455,\n",
              " 'idea': 456,\n",
              " 'wishing': 457,\n",
              " 'followers': 458,\n",
              " 'whole': 459,\n",
              " 'ya': 460,\n",
              " 'fuck': 461,\n",
              " 'dinner': 462,\n",
              " 'face': 463,\n",
              " 'friday': 464,\n",
              " 'news': 465,\n",
              " 'rest': 466,\n",
              " 'lovely': 467,\n",
              " 'came': 468,\n",
              " \"she's\": 469,\n",
              " 'test': 470,\n",
              " 'started': 471,\n",
              " 'died': 472,\n",
              " 'video': 473,\n",
              " 'years': 474,\n",
              " 'used': 475,\n",
              " 'hit': 476,\n",
              " 'broken': 477,\n",
              " 'sounds': 478,\n",
              " 'full': 479,\n",
              " 'dad': 480,\n",
              " 'guy': 481,\n",
              " 'once': 482,\n",
              " 'due': 483,\n",
              " 'took': 484,\n",
              " 'laptop': 485,\n",
              " 'iphone': 486,\n",
              " 'studying': 487,\n",
              " 'worst': 488,\n",
              " 'lots': 489,\n",
              " 'super': 490,\n",
              " 'worse': 491,\n",
              " 'happened': 492,\n",
              " 'hoping': 493,\n",
              " 'seriously': 494,\n",
              " 'shame': 495,\n",
              " 'follow': 496,\n",
              " 'suck': 497,\n",
              " 'finish': 498,\n",
              " 'minutes': 499,\n",
              " 'instead': 500,\n",
              " \"what's\": 501,\n",
              " 'xx': 502,\n",
              " 'supposed': 503,\n",
              " 'paper': 504,\n",
              " 'soo': 505,\n",
              " 'seem': 506,\n",
              " 'rainy': 507,\n",
              " 'goes': 508,\n",
              " 'starting': 509,\n",
              " \"we're\": 510,\n",
              " 'write': 511,\n",
              " 'birthday': 512,\n",
              " 'amazing': 513,\n",
              " 'walk': 514,\n",
              " 'inside': 515,\n",
              " 'fail': 516,\n",
              " 'send': 517,\n",
              " 'snow': 518,\n",
              " 'horrible': 519,\n",
              " 'free': 520,\n",
              " 'check': 521,\n",
              " 'upset': 522,\n",
              " 'gets': 523,\n",
              " 'tweets': 524,\n",
              " 'sadly': 525,\n",
              " 'running': 526,\n",
              " 'drive': 527,\n",
              " 'exam': 528,\n",
              " 'glad': 529,\n",
              " 'hopefully': 530,\n",
              " 'part': 531,\n",
              " 'd': 532,\n",
              " 'crazy': 533,\n",
              " 'awww': 534,\n",
              " 'aw': 535,\n",
              " 'cuz': 536,\n",
              " 'doesnt': 537,\n",
              " 'online': 538,\n",
              " 'easter': 539,\n",
              " 'flu': 540,\n",
              " 'means': 541,\n",
              " 'stomach': 542,\n",
              " 'til': 543,\n",
              " 'hates': 544,\n",
              " 'open': 545,\n",
              " '8': 546,\n",
              " 'thank': 547,\n",
              " 'eating': 548,\n",
              " 's': 549,\n",
              " 'fucking': 550,\n",
              " 'ah': 551,\n",
              " 'song': 552,\n",
              " 'heading': 553,\n",
              " 'holidays': 554,\n",
              " 'listening': 555,\n",
              " 'ive': 556,\n",
              " 'heard': 557,\n",
              " 'breakfast': 558,\n",
              " 'uni': 559,\n",
              " 'sat': 560,\n",
              " 'following': 561,\n",
              " 'anyway': 562,\n",
              " 'tuesday': 563,\n",
              " 'told': 564,\n",
              " 'cut': 565,\n",
              " 'meet': 566,\n",
              " 'remember': 567,\n",
              " 'c': 568,\n",
              " 'season': 569,\n",
              " 'fell': 570,\n",
              " 'wondering': 571,\n",
              " 'jealous': 572,\n",
              " 'watched': 573,\n",
              " 'hi': 574,\n",
              " '7': 575,\n",
              " 'beach': 576,\n",
              " 'month': 577,\n",
              " 'mad': 578,\n",
              " 'heart': 579,\n",
              " 'name': 580,\n",
              " 'post': 581,\n",
              " 'ass': 582,\n",
              " 'dream': 583,\n",
              " 'company': 584,\n",
              " 'move': 585,\n",
              " \"they're\": 586,\n",
              " 'cat': 587,\n",
              " 'fall': 588,\n",
              " 'mac': 589,\n",
              " 'own': 590,\n",
              " 'kind': 591,\n",
              " 'reading': 592,\n",
              " 'called': 593,\n",
              " 'rather': 594,\n",
              " 'ipod': 595,\n",
              " 'quite': 596,\n",
              " 'sometimes': 597,\n",
              " 'hahaha': 598,\n",
              " 'change': 599,\n",
              " 'bought': 600,\n",
              " 'sleepy': 601,\n",
              " 'true': 602,\n",
              " 'boy': 603,\n",
              " '20': 604,\n",
              " 'win': 605,\n",
              " 'ate': 606,\n",
              " 'both': 607,\n",
              " 'train': 608,\n",
              " 'site': 609,\n",
              " 'mind': 610,\n",
              " 'sound': 611,\n",
              " 'store': 612,\n",
              " 'months': 613,\n",
              " 'reason': 614,\n",
              " 'cannot': 615,\n",
              " 'email': 616,\n",
              " 'holiday': 617,\n",
              " 'moment': 618,\n",
              " 'set': 619,\n",
              " 'slept': 620,\n",
              " 'tummy': 621,\n",
              " 'shopping': 622,\n",
              " 'catch': 623,\n",
              " 'dude': 624,\n",
              " 'soooo': 625,\n",
              " 'english': 626,\n",
              " 'seeing': 627,\n",
              " 'water': 628,\n",
              " 'girls': 629,\n",
              " 'enjoy': 630,\n",
              " 'trip': 631,\n",
              " 'cleaning': 632,\n",
              " 'pic': 633,\n",
              " 't': 634,\n",
              " 'writing': 635,\n",
              " 'funny': 636,\n",
              " 'apparently': 637,\n",
              " 'book': 638,\n",
              " 'bummed': 639,\n",
              " 'dear': 640,\n",
              " 'less': 641,\n",
              " 'lucky': 642,\n",
              " 'page': 643,\n",
              " 'bus': 644,\n",
              " 'picture': 645,\n",
              " 'reply': 646,\n",
              " 'close': 647,\n",
              " 'slow': 648,\n",
              " 'update': 649,\n",
              " 'three': 650,\n",
              " 'happen': 651,\n",
              " 'past': 652,\n",
              " 'meeting': 653,\n",
              " 'link': 654,\n",
              " 'wishes': 655,\n",
              " 'eyes': 656,\n",
              " 'longer': 657,\n",
              " 'under': 658,\n",
              " 'exams': 659,\n",
              " 'person': 660,\n",
              " 'facebook': 661,\n",
              " 'shower': 662,\n",
              " 'terrible': 663,\n",
              " 'fan': 664,\n",
              " 'excited': 665,\n",
              " 'wtf': 666,\n",
              " 'talking': 667,\n",
              " 'london': 668,\n",
              " 'death': 669,\n",
              " 'using': 670,\n",
              " 'red': 671,\n",
              " 'care': 672,\n",
              " 'drink': 673,\n",
              " 'spent': 674,\n",
              " 'scared': 675,\n",
              " 'fair': 676,\n",
              " 'mum': 677,\n",
              " 'killing': 678,\n",
              " 'tickets': 679,\n",
              " 'afternoon': 680,\n",
              " 'fast': 681,\n",
              " 'town': 682,\n",
              " 'couple': 683,\n",
              " 'mood': 684,\n",
              " 'gym': 685,\n",
              " 'turn': 686,\n",
              " 'understand': 687,\n",
              " 'problem': 688,\n",
              " 'argh': 689,\n",
              " 'thinks': 690,\n",
              " 'short': 691,\n",
              " 'crying': 692,\n",
              " '12': 693,\n",
              " 'sweet': 694,\n",
              " 'isnt': 695,\n",
              " 'body': 696,\n",
              " 'city': 697,\n",
              " 'ones': 698,\n",
              " 'la': 699,\n",
              " 'driving': 700,\n",
              " 'bring': 701,\n",
              " 'church': 702,\n",
              " 'vacation': 703,\n",
              " \"aren't\": 704,\n",
              " 'waking': 705,\n",
              " '30': 706,\n",
              " \"'\": 707,\n",
              " 'comes': 708,\n",
              " 'course': 709,\n",
              " 'updates': 710,\n",
              " 'text': 711,\n",
              " 'havent': 712,\n",
              " 'flight': 713,\n",
              " 'ride': 714,\n",
              " 'works': 715,\n",
              " 'tour': 716,\n",
              " 'sunshine': 717,\n",
              " 'fine': 718,\n",
              " 'drinking': 719,\n",
              " 'ppl': 720,\n",
              " 'top': 721,\n",
              " 'lose': 722,\n",
              " 'chocolate': 723,\n",
              " 'together': 724,\n",
              " 'bout': 725,\n",
              " 'chance': 726,\n",
              " 'weird': 727,\n",
              " 'dying': 728,\n",
              " 'nap': 729,\n",
              " 'huge': 730,\n",
              " 'essay': 731,\n",
              " 'ouch': 732,\n",
              " 'dropped': 733,\n",
              " 'fix': 734,\n",
              " 'cute': 735,\n",
              " 'felt': 736,\n",
              " 'kill': 737,\n",
              " 'during': 738,\n",
              " 'spend': 739,\n",
              " 'nite': 740,\n",
              " 'closed': 741,\n",
              " 'project': 742,\n",
              " 'die': 743,\n",
              " 'bloody': 744,\n",
              " 'park': 745,\n",
              " 'whats': 746,\n",
              " 'airport': 747,\n",
              " 'uk': 748,\n",
              " '9': 749,\n",
              " 'tea': 750,\n",
              " 'pay': 751,\n",
              " 'sent': 752,\n",
              " 'april': 753,\n",
              " 'figure': 754,\n",
              " 'ache': 755,\n",
              " 'side': 756,\n",
              " 'brother': 757,\n",
              " 'thursday': 758,\n",
              " 'moving': 759,\n",
              " 'happens': 760,\n",
              " 'bye': 761,\n",
              " 'behind': 762,\n",
              " 'rip': 763,\n",
              " 'yea': 764,\n",
              " 'hand': 765,\n",
              " 'ahh': 766,\n",
              " 'wonder': 767,\n",
              " 'won': 768,\n",
              " 'y': 769,\n",
              " 'btw': 770,\n",
              " 'keeps': 771,\n",
              " 'p': 772,\n",
              " 'lmao': 773,\n",
              " 'message': 774,\n",
              " 'youtube': 775,\n",
              " 'knew': 776,\n",
              " 'word': 777,\n",
              " 'except': 778,\n",
              " '2day': 779,\n",
              " 'answer': 780,\n",
              " 'concert': 781,\n",
              " 'saying': 782,\n",
              " 'earlier': 783,\n",
              " 'taken': 784,\n",
              " 'sister': 785,\n",
              " 'parents': 786,\n",
              " 'shoes': 787,\n",
              " 'worried': 788,\n",
              " 'gave': 789,\n",
              " 'team': 790,\n",
              " 'eye': 791,\n",
              " 'hospital': 792,\n",
              " 'blog': 793,\n",
              " '15': 794,\n",
              " 'cos': 795,\n",
              " 'trouble': 796,\n",
              " 'failed': 797,\n",
              " 'awful': 798,\n",
              " 'final': 799,\n",
              " 'high': 800,\n",
              " 'cancelled': 801,\n",
              " 'nope': 802,\n",
              " '22': 803,\n",
              " 'tweetdeck': 804,\n",
              " 'nose': 805,\n",
              " 'camera': 806,\n",
              " 'disappointed': 807,\n",
              " 'traffic': 808,\n",
              " 'drunk': 809,\n",
              " 'gutted': 810,\n",
              " 'windows': 811,\n",
              " \"wouldn't\": 812,\n",
              " 'xd': 813,\n",
              " 'staying': 814,\n",
              " 'agree': 815,\n",
              " 'hubby': 816,\n",
              " 'nobody': 817,\n",
              " 'starts': 818,\n",
              " 'pics': 819,\n",
              " 'mins': 820,\n",
              " 'goodbye': 821,\n",
              " 'sit': 822,\n",
              " 'pc': 823,\n",
              " '1st': 824,\n",
              " 'second': 825,\n",
              " 'coz': 826,\n",
              " 'plans': 827,\n",
              " 'shows': 828,\n",
              " 'hmm': 829,\n",
              " 'lazy': 830,\n",
              " 'round': 831,\n",
              " 'ha': 832,\n",
              " 'feet': 833,\n",
              " 'warm': 834,\n",
              " 'cup': 835,\n",
              " 'enjoying': 836,\n",
              " 'boys': 837,\n",
              " 'female': 838,\n",
              " 'empty': 839,\n",
              " 'shop': 840,\n",
              " 'upload': 841,\n",
              " '100': 842,\n",
              " 'dentist': 843,\n",
              " 'none': 844,\n",
              " 'fact': 845,\n",
              " 'annoying': 846,\n",
              " 'tweeting': 847,\n",
              " 'revision': 848,\n",
              " 'near': 849,\n",
              " 'exhausted': 850,\n",
              " 'idk': 851,\n",
              " 'account': 852,\n",
              " 'episode': 853,\n",
              " 'garden': 854,\n",
              " 'listen': 855,\n",
              " 'looked': 856,\n",
              " 'goin': 857,\n",
              " 'save': 858,\n",
              " 'lame': 859,\n",
              " 'website': 860,\n",
              " 'losing': 861,\n",
              " 'movies': 862,\n",
              " 'ran': 863,\n",
              " 'completely': 864,\n",
              " 'depressing': 865,\n",
              " 'pick': 866,\n",
              " 'realized': 867,\n",
              " 'list': 868,\n",
              " 'hang': 869,\n",
              " 'visit': 870,\n",
              " 'loved': 871,\n",
              " 'nights': 872,\n",
              " 'door': 873,\n",
              " 'learn': 874,\n",
              " 'evening': 875,\n",
              " 'power': 876,\n",
              " 'story': 877,\n",
              " 'nearly': 878,\n",
              " 'boyfriend': 879,\n",
              " 'stopped': 880,\n",
              " 'turned': 881,\n",
              " 'scary': 882,\n",
              " 'goodnight': 883,\n",
              " 'air': 884,\n",
              " 'hug': 885,\n",
              " 'although': 886,\n",
              " 'son': 887,\n",
              " 'sold': 888,\n",
              " 'fight': 889,\n",
              " 'bike': 890,\n",
              " 'blah': 891,\n",
              " \"hasn't\": 892,\n",
              " 'definitely': 893,\n",
              " 'minute': 894,\n",
              " 'point': 895,\n",
              " 'ice': 896,\n",
              " 'fixed': 897,\n",
              " 'm': 898,\n",
              " 'gorgeous': 899,\n",
              " 'misses': 900,\n",
              " 'living': 901,\n",
              " 'library': 902,\n",
              " 'xxx': 903,\n",
              " 'meant': 904,\n",
              " 'white': 905,\n",
              " 'service': 906,\n",
              " 'lil': 907,\n",
              " 'doctor': 908,\n",
              " 'worth': 909,\n",
              " 'plus': 910,\n",
              " 'single': 911,\n",
              " 'photo': 912,\n",
              " 'depressed': 913,\n",
              " 'bday': 914,\n",
              " 'hello': 915,\n",
              " 'gah': 916,\n",
              " 'stayed': 917,\n",
              " 'anywhere': 918,\n",
              " 'ask': 919,\n",
              " 'blue': 920,\n",
              " 'loss': 921,\n",
              " 'photos': 922,\n",
              " 'bar': 923,\n",
              " 'dark': 924,\n",
              " 'winter': 925,\n",
              " 'crappy': 926,\n",
              " 'e': 927,\n",
              " 'road': 928,\n",
              " 'battery': 929,\n",
              " 'pizza': 930,\n",
              " 'snowing': 931,\n",
              " 'fat': 932,\n",
              " 'pissed': 933,\n",
              " 'afraid': 934,\n",
              " 'dreams': 935,\n",
              " 'small': 936,\n",
              " 'aint': 937,\n",
              " 'wanting': 938,\n",
              " 'window': 939,\n",
              " 'club': 940,\n",
              " 'case': 941,\n",
              " 'bummer': 942,\n",
              " 'forever': 943,\n",
              " 'black': 944,\n",
              " 'radio': 945,\n",
              " 'officially': 946,\n",
              " 'games': 947,\n",
              " 'decided': 948,\n",
              " 'line': 949,\n",
              " '11': 950,\n",
              " 'laundry': 951,\n",
              " 'freaking': 952,\n",
              " 'giving': 953,\n",
              " 'fml': 954,\n",
              " 'voice': 955,\n",
              " 'easy': 956,\n",
              " 'books': 957,\n",
              " 'ended': 958,\n",
              " 'pictures': 959,\n",
              " '2nd': 960,\n",
              " 'art': 961,\n",
              " 'dang': 962,\n",
              " 'forget': 963,\n",
              " 'business': 964,\n",
              " 'dvd': 965,\n",
              " 'french': 966,\n",
              " 'cream': 967,\n",
              " '24': 968,\n",
              " 'passed': 969,\n",
              " 'fever': 970,\n",
              " 'hands': 971,\n",
              " 'ahhh': 972,\n",
              " 'perfect': 973,\n",
              " 'coursework': 974,\n",
              " 'leg': 975,\n",
              " 'songs': 976,\n",
              " 'hrs': 977,\n",
              " 'worked': 978,\n",
              " 'spending': 979,\n",
              " \"we'll\": 980,\n",
              " 'usually': 981,\n",
              " 'cough': 982,\n",
              " 'especially': 983,\n",
              " 'bitch': 984,\n",
              " 'wear': 985,\n",
              " 'wednesday': 986,\n",
              " 'killed': 987,\n",
              " 'band': 988,\n",
              " 'confused': 989,\n",
              " 'app': 990,\n",
              " 'different': 991,\n",
              " 'knows': 992,\n",
              " 'google': 993,\n",
              " 'allergies': 994,\n",
              " 'web': 995,\n",
              " 'expensive': 996,\n",
              " 'add': 997,\n",
              " 'race': 998,\n",
              " 'low': 999,\n",
              " 'mr': 1000,\n",
              " ...}"
            ]
          },
          "metadata": {},
          "execution_count": 23
        }
      ]
    },
    {
      "cell_type": "code",
      "source": [
        "type(tokenizer.word_index)"
      ],
      "metadata": {
        "colab": {
          "base_uri": "https://localhost:8080/"
        },
        "id": "4aC9WN0q510i",
        "outputId": "d3c88d7e-af80-4507-cdbf-165b46379e07"
      },
      "execution_count": 20,
      "outputs": [
        {
          "output_type": "execute_result",
          "data": {
            "text/plain": [
              "dict"
            ]
          },
          "metadata": {},
          "execution_count": 20
        }
      ]
    },
    {
      "cell_type": "code",
      "source": [
        "len(tokenizer.word_index)"
      ],
      "metadata": {
        "colab": {
          "base_uri": "https://localhost:8080/"
        },
        "id": "V_OZk2qc553y",
        "outputId": "6d25c4ca-1346-4a1f-823f-e81152278424"
      },
      "execution_count": 20,
      "outputs": [
        {
          "output_type": "execute_result",
          "data": {
            "text/plain": [
              "3096"
            ]
          },
          "metadata": {},
          "execution_count": 20
        }
      ]
    },
    {
      "cell_type": "code",
      "source": [
        "max(tokenizer.word_index.values())"
      ],
      "metadata": {
        "colab": {
          "base_uri": "https://localhost:8080/"
        },
        "id": "nlLAi47T6miJ",
        "outputId": "59c62ec3-e8c2-4e07-a6fa-3f0eb63b0f81"
      },
      "execution_count": 21,
      "outputs": [
        {
          "output_type": "execute_result",
          "data": {
            "text/plain": [
              "3096"
            ]
          },
          "metadata": {},
          "execution_count": 21
        }
      ]
    },
    {
      "cell_type": "code",
      "source": [
        "min(tokenizer.word_index.values())"
      ],
      "metadata": {
        "colab": {
          "base_uri": "https://localhost:8080/"
        },
        "id": "zO6euq8w7MZ5",
        "outputId": "40fac896-30ed-4135-d87b-7dc25a9bcdc0"
      },
      "execution_count": 23,
      "outputs": [
        {
          "output_type": "execute_result",
          "data": {
            "text/plain": [
              "1"
            ]
          },
          "metadata": {},
          "execution_count": 23
        }
      ]
    },
    {
      "cell_type": "code",
      "source": [
        "for sentence in data[:5]:\n",
        "  tokenized_sentence = tokenizer.texts_to_sequences([sentence])\n",
        "  print(tokenized_sentence)"
      ],
      "metadata": {
        "colab": {
          "base_uri": "https://localhost:8080/"
        },
        "id": "rkmNaAhux1pa",
        "outputId": "06bfb235-cc06-4dbc-c8f3-29aa32aec92b"
      },
      "execution_count": 24,
      "outputs": [
        {
          "output_type": "stream",
          "name": "stdout",
          "text": [
            "[[534, 182, 4, 942, 14, 3055, 44, 1748, 6745, 11, 1749, 34, 2, 40, 9, 532]]\n",
            "[[7, 522, 19, 115, 46, 649, 190, 661, 127, 2769, 9, 6, 313, 406, 84, 4, 1667, 80, 37, 291, 891]]\n",
            "[[1, 14738, 288, 350, 10, 3, 1836, 1323, 2, 858, 1149, 3, 466, 31, 33, 11, 10169]]\n",
            "[[5, 459, 696, 373, 1707, 6, 38, 60, 13, 1324]]\n",
            "[[28, 41, 18, 6746, 21, 36, 20, 578, 82, 47, 1, 100, 176, 1, 46, 97, 14, 36, 113, 92]]\n"
          ]
        }
      ]
    },
    {
      "cell_type": "code",
      "source": [
        "input = []\n",
        "for sentence in data:\n",
        "    tokenized_sentence = tokenizer.texts_to_sequences([sentence])[0]\n",
        "\n",
        "    for i in range(len(tokenized_sentence)-1):\n",
        "      input.append(tokenized_sentence[:i+2])"
      ],
      "metadata": {
        "id": "GuUqx2EWyOFC"
      },
      "execution_count": 22,
      "outputs": []
    },
    {
      "cell_type": "code",
      "source": [
        "input[:20]"
      ],
      "metadata": {
        "colab": {
          "base_uri": "https://localhost:8080/"
        },
        "id": "8oncsTqF0CY2",
        "outputId": "8551ed1c-3fcc-4d8b-e705-005fb7ded45c"
      },
      "execution_count": 30,
      "outputs": [
        {
          "output_type": "execute_result",
          "data": {
            "text/plain": [
              "[[534, 182],\n",
              " [534, 182, 4],\n",
              " [534, 182, 4, 942],\n",
              " [534, 182, 4, 942, 14],\n",
              " [534, 182, 4, 942, 14, 3055],\n",
              " [534, 182, 4, 942, 14, 3055, 44],\n",
              " [534, 182, 4, 942, 14, 3055, 44, 1748],\n",
              " [534, 182, 4, 942, 14, 3055, 44, 1748, 6745],\n",
              " [534, 182, 4, 942, 14, 3055, 44, 1748, 6745, 11],\n",
              " [534, 182, 4, 942, 14, 3055, 44, 1748, 6745, 11, 1749],\n",
              " [534, 182, 4, 942, 14, 3055, 44, 1748, 6745, 11, 1749, 34],\n",
              " [534, 182, 4, 942, 14, 3055, 44, 1748, 6745, 11, 1749, 34, 2],\n",
              " [534, 182, 4, 942, 14, 3055, 44, 1748, 6745, 11, 1749, 34, 2, 40],\n",
              " [534, 182, 4, 942, 14, 3055, 44, 1748, 6745, 11, 1749, 34, 2, 40, 9],\n",
              " [534, 182, 4, 942, 14, 3055, 44, 1748, 6745, 11, 1749, 34, 2, 40, 9, 532],\n",
              " [7, 522],\n",
              " [7, 522, 19],\n",
              " [7, 522, 19, 115],\n",
              " [7, 522, 19, 115, 46],\n",
              " [7, 522, 19, 115, 46, 649]]"
            ]
          },
          "metadata": {},
          "execution_count": 30
        }
      ]
    },
    {
      "cell_type": "code",
      "source": [
        "max_len = max([len(i) for i in input])"
      ],
      "metadata": {
        "id": "Kpnpl6FI1vlT"
      },
      "execution_count": 23,
      "outputs": []
    },
    {
      "cell_type": "code",
      "source": [
        "max_len"
      ],
      "metadata": {
        "colab": {
          "base_uri": "https://localhost:8080/"
        },
        "id": "Tw15qJYs1z-4",
        "outputId": "f398ccc2-843f-47d7-8a25-59643fc42602"
      },
      "execution_count": 24,
      "outputs": [
        {
          "output_type": "execute_result",
          "data": {
            "text/plain": [
              "31"
            ]
          },
          "metadata": {},
          "execution_count": 24
        }
      ]
    },
    {
      "cell_type": "code",
      "source": [
        "from tensorflow.keras.preprocessing.sequence import pad_sequences\n",
        "tweetInput = pad_sequences(input, maxlen = max_len, padding = 'pre')"
      ],
      "metadata": {
        "id": "FtMJOnKs10wc"
      },
      "execution_count": 25,
      "outputs": []
    },
    {
      "cell_type": "code",
      "source": [
        "tweetInput[:20]"
      ],
      "metadata": {
        "colab": {
          "base_uri": "https://localhost:8080/"
        },
        "id": "sx2_X3jT4nDr",
        "outputId": "fd04179d-f09e-4df9-ecc1-33d8214e84f3"
      },
      "execution_count": 34,
      "outputs": [
        {
          "output_type": "execute_result",
          "data": {
            "text/plain": [
              "array([[   0,    0,    0,    0,    0,    0,    0,    0,    0,    0,    0,\n",
              "           0,    0,    0,    0,    0,    0,    0,    0,    0,    0,    0,\n",
              "           0,    0,    0,    0,    0,    0,    0,    0,    0,    0,    0,\n",
              "         534,  182],\n",
              "       [   0,    0,    0,    0,    0,    0,    0,    0,    0,    0,    0,\n",
              "           0,    0,    0,    0,    0,    0,    0,    0,    0,    0,    0,\n",
              "           0,    0,    0,    0,    0,    0,    0,    0,    0,    0,  534,\n",
              "         182,    4],\n",
              "       [   0,    0,    0,    0,    0,    0,    0,    0,    0,    0,    0,\n",
              "           0,    0,    0,    0,    0,    0,    0,    0,    0,    0,    0,\n",
              "           0,    0,    0,    0,    0,    0,    0,    0,    0,  534,  182,\n",
              "           4,  942],\n",
              "       [   0,    0,    0,    0,    0,    0,    0,    0,    0,    0,    0,\n",
              "           0,    0,    0,    0,    0,    0,    0,    0,    0,    0,    0,\n",
              "           0,    0,    0,    0,    0,    0,    0,    0,  534,  182,    4,\n",
              "         942,   14],\n",
              "       [   0,    0,    0,    0,    0,    0,    0,    0,    0,    0,    0,\n",
              "           0,    0,    0,    0,    0,    0,    0,    0,    0,    0,    0,\n",
              "           0,    0,    0,    0,    0,    0,    0,  534,  182,    4,  942,\n",
              "          14, 3055],\n",
              "       [   0,    0,    0,    0,    0,    0,    0,    0,    0,    0,    0,\n",
              "           0,    0,    0,    0,    0,    0,    0,    0,    0,    0,    0,\n",
              "           0,    0,    0,    0,    0,    0,  534,  182,    4,  942,   14,\n",
              "        3055,   44],\n",
              "       [   0,    0,    0,    0,    0,    0,    0,    0,    0,    0,    0,\n",
              "           0,    0,    0,    0,    0,    0,    0,    0,    0,    0,    0,\n",
              "           0,    0,    0,    0,    0,  534,  182,    4,  942,   14, 3055,\n",
              "          44, 1748],\n",
              "       [   0,    0,    0,    0,    0,    0,    0,    0,    0,    0,    0,\n",
              "           0,    0,    0,    0,    0,    0,    0,    0,    0,    0,    0,\n",
              "           0,    0,    0,    0,  534,  182,    4,  942,   14, 3055,   44,\n",
              "        1748, 6745],\n",
              "       [   0,    0,    0,    0,    0,    0,    0,    0,    0,    0,    0,\n",
              "           0,    0,    0,    0,    0,    0,    0,    0,    0,    0,    0,\n",
              "           0,    0,    0,  534,  182,    4,  942,   14, 3055,   44, 1748,\n",
              "        6745,   11],\n",
              "       [   0,    0,    0,    0,    0,    0,    0,    0,    0,    0,    0,\n",
              "           0,    0,    0,    0,    0,    0,    0,    0,    0,    0,    0,\n",
              "           0,    0,  534,  182,    4,  942,   14, 3055,   44, 1748, 6745,\n",
              "          11, 1749],\n",
              "       [   0,    0,    0,    0,    0,    0,    0,    0,    0,    0,    0,\n",
              "           0,    0,    0,    0,    0,    0,    0,    0,    0,    0,    0,\n",
              "           0,  534,  182,    4,  942,   14, 3055,   44, 1748, 6745,   11,\n",
              "        1749,   34],\n",
              "       [   0,    0,    0,    0,    0,    0,    0,    0,    0,    0,    0,\n",
              "           0,    0,    0,    0,    0,    0,    0,    0,    0,    0,    0,\n",
              "         534,  182,    4,  942,   14, 3055,   44, 1748, 6745,   11, 1749,\n",
              "          34,    2],\n",
              "       [   0,    0,    0,    0,    0,    0,    0,    0,    0,    0,    0,\n",
              "           0,    0,    0,    0,    0,    0,    0,    0,    0,    0,  534,\n",
              "         182,    4,  942,   14, 3055,   44, 1748, 6745,   11, 1749,   34,\n",
              "           2,   40],\n",
              "       [   0,    0,    0,    0,    0,    0,    0,    0,    0,    0,    0,\n",
              "           0,    0,    0,    0,    0,    0,    0,    0,    0,  534,  182,\n",
              "           4,  942,   14, 3055,   44, 1748, 6745,   11, 1749,   34,    2,\n",
              "          40,    9],\n",
              "       [   0,    0,    0,    0,    0,    0,    0,    0,    0,    0,    0,\n",
              "           0,    0,    0,    0,    0,    0,    0,    0,  534,  182,    4,\n",
              "         942,   14, 3055,   44, 1748, 6745,   11, 1749,   34,    2,   40,\n",
              "           9,  532],\n",
              "       [   0,    0,    0,    0,    0,    0,    0,    0,    0,    0,    0,\n",
              "           0,    0,    0,    0,    0,    0,    0,    0,    0,    0,    0,\n",
              "           0,    0,    0,    0,    0,    0,    0,    0,    0,    0,    0,\n",
              "           7,  522],\n",
              "       [   0,    0,    0,    0,    0,    0,    0,    0,    0,    0,    0,\n",
              "           0,    0,    0,    0,    0,    0,    0,    0,    0,    0,    0,\n",
              "           0,    0,    0,    0,    0,    0,    0,    0,    0,    0,    7,\n",
              "         522,   19],\n",
              "       [   0,    0,    0,    0,    0,    0,    0,    0,    0,    0,    0,\n",
              "           0,    0,    0,    0,    0,    0,    0,    0,    0,    0,    0,\n",
              "           0,    0,    0,    0,    0,    0,    0,    0,    0,    7,  522,\n",
              "          19,  115],\n",
              "       [   0,    0,    0,    0,    0,    0,    0,    0,    0,    0,    0,\n",
              "           0,    0,    0,    0,    0,    0,    0,    0,    0,    0,    0,\n",
              "           0,    0,    0,    0,    0,    0,    0,    0,    7,  522,   19,\n",
              "         115,   46],\n",
              "       [   0,    0,    0,    0,    0,    0,    0,    0,    0,    0,    0,\n",
              "           0,    0,    0,    0,    0,    0,    0,    0,    0,    0,    0,\n",
              "           0,    0,    0,    0,    0,    0,    0,    7,  522,   19,  115,\n",
              "          46,  649]], dtype=int32)"
            ]
          },
          "metadata": {},
          "execution_count": 34
        }
      ]
    },
    {
      "cell_type": "code",
      "source": [
        "X = tweetInput[:, :-1]"
      ],
      "metadata": {
        "id": "PTR2kt-m4ufH"
      },
      "execution_count": 26,
      "outputs": []
    },
    {
      "cell_type": "code",
      "source": [
        "X"
      ],
      "metadata": {
        "colab": {
          "base_uri": "https://localhost:8080/"
        },
        "id": "lUdHvbcc5DoO",
        "outputId": "0b4398c5-8c10-4400-8328-8c9317df1562"
      },
      "execution_count": 36,
      "outputs": [
        {
          "output_type": "execute_result",
          "data": {
            "text/plain": [
              "array([[  0,   0,   0, ...,   0,   0, 534],\n",
              "       [  0,   0,   0, ...,   0, 534, 182],\n",
              "       [  0,   0,   0, ..., 534, 182,   4],\n",
              "       ...,\n",
              "       [  0,   0,   0, ..., 111,  86,   6],\n",
              "       [  0,   0,   0, ...,  86,   6,  30],\n",
              "       [  0,   0,   0, ...,   6,  30,  41]], dtype=int32)"
            ]
          },
          "metadata": {},
          "execution_count": 36
        }
      ]
    },
    {
      "cell_type": "code",
      "source": [
        "Y = tweetInput[:, -1]"
      ],
      "metadata": {
        "id": "n3hDQg5D5Eio"
      },
      "execution_count": 27,
      "outputs": []
    },
    {
      "cell_type": "code",
      "source": [
        "Y"
      ],
      "metadata": {
        "colab": {
          "base_uri": "https://localhost:8080/"
        },
        "id": "BDW44fnP5VHI",
        "outputId": "2fb89977-1202-4126-e320-c0e82de7e448"
      },
      "execution_count": 38,
      "outputs": [
        {
          "output_type": "execute_result",
          "data": {
            "text/plain": [
              "array([182,   4, 942, ...,  30,  41,  27], dtype=int32)"
            ]
          },
          "metadata": {},
          "execution_count": 38
        }
      ]
    },
    {
      "cell_type": "code",
      "source": [
        "X.shape"
      ],
      "metadata": {
        "colab": {
          "base_uri": "https://localhost:8080/"
        },
        "id": "prE-AlPH5ViS",
        "outputId": "ea01d9ac-3a79-4102-c24d-f80e6d101c43"
      },
      "execution_count": 40,
      "outputs": [
        {
          "output_type": "execute_result",
          "data": {
            "text/plain": [
              "(12187, 30)"
            ]
          },
          "metadata": {},
          "execution_count": 40
        }
      ]
    },
    {
      "cell_type": "code",
      "source": [
        "Y.shape"
      ],
      "metadata": {
        "colab": {
          "base_uri": "https://localhost:8080/"
        },
        "id": "2QVObzdz5iFq",
        "outputId": "11108188-a57d-43bc-c3eb-8632c7b6c14e"
      },
      "execution_count": 39,
      "outputs": [
        {
          "output_type": "execute_result",
          "data": {
            "text/plain": [
              "(12187,)"
            ]
          },
          "metadata": {},
          "execution_count": 39
        }
      ]
    },
    {
      "cell_type": "code",
      "source": [
        "from tensorflow.keras.utils import to_categorical"
      ],
      "metadata": {
        "id": "20nFv4rc5iv9"
      },
      "execution_count": 28,
      "outputs": []
    },
    {
      "cell_type": "code",
      "source": [
        "encodedInput = to_categorical(Y, num_classes=3097)"
      ],
      "metadata": {
        "id": "WzzAi4za70z3"
      },
      "execution_count": 29,
      "outputs": []
    },
    {
      "cell_type": "code",
      "source": [
        "from tensorflow.keras.models import Sequential\n",
        "from tensorflow.keras.layers import Embedding, LSTM, Dense"
      ],
      "metadata": {
        "id": "ZWa9mehW8dEr"
      },
      "execution_count": 30,
      "outputs": []
    },
    {
      "cell_type": "code",
      "source": [
        "model = Sequential()\n",
        "model.add(Embedding(3097, 100, input_length = 30))\n",
        "model.add(LSTM(150))\n",
        "model.add(Dense(3097, activation = 'softmax'))"
      ],
      "metadata": {
        "id": "JxJf4_69AOyb"
      },
      "execution_count": 41,
      "outputs": []
    },
    {
      "cell_type": "code",
      "source": [
        "model.compile(loss = 'categorical_crossentropy', optimizer = 'adam', metrics = ['accuracy'])"
      ],
      "metadata": {
        "id": "m2jZ9TwBAv5z"
      },
      "execution_count": 42,
      "outputs": []
    },
    {
      "cell_type": "code",
      "source": [
        "model.summary()"
      ],
      "metadata": {
        "colab": {
          "base_uri": "https://localhost:8080/"
        },
        "id": "WtsFjZR_AzcA",
        "outputId": "118b16fb-de4a-477a-b90a-4c4f1cdc66e7"
      },
      "execution_count": 43,
      "outputs": [
        {
          "output_type": "stream",
          "name": "stdout",
          "text": [
            "Model: \"sequential_2\"\n",
            "_________________________________________________________________\n",
            " Layer (type)                Output Shape              Param #   \n",
            "=================================================================\n",
            " embedding_2 (Embedding)     (None, 30, 100)           309700    \n",
            "                                                                 \n",
            " lstm_2 (LSTM)               (None, 150)               150600    \n",
            "                                                                 \n",
            " dense_2 (Dense)             (None, 3097)              467647    \n",
            "                                                                 \n",
            "=================================================================\n",
            "Total params: 927947 (3.54 MB)\n",
            "Trainable params: 927947 (3.54 MB)\n",
            "Non-trainable params: 0 (0.00 Byte)\n",
            "_________________________________________________________________\n"
          ]
        }
      ]
    },
    {
      "cell_type": "code",
      "source": [
        "model.fit(X,encodedInput, epochs = 50)"
      ],
      "metadata": {
        "colab": {
          "base_uri": "https://localhost:8080/"
        },
        "id": "ypsb7pkvA_Fz",
        "outputId": "f3e507b3-c5d4-44cf-eaa1-46723b436671"
      },
      "execution_count": 45,
      "outputs": [
        {
          "output_type": "stream",
          "name": "stdout",
          "text": [
            "Epoch 1/50\n",
            "381/381 [==============================] - 28s 74ms/step - loss: 6.0203 - accuracy: 0.0628\n",
            "Epoch 2/50\n",
            "381/381 [==============================] - 28s 73ms/step - loss: 5.7237 - accuracy: 0.0770\n",
            "Epoch 3/50\n",
            "381/381 [==============================] - 27s 71ms/step - loss: 5.4272 - accuracy: 0.0939\n",
            "Epoch 4/50\n",
            "381/381 [==============================] - 28s 74ms/step - loss: 5.1279 - accuracy: 0.1059\n",
            "Epoch 5/50\n",
            "381/381 [==============================] - 28s 73ms/step - loss: 4.8344 - accuracy: 0.1216\n",
            "Epoch 6/50\n",
            "381/381 [==============================] - 27s 72ms/step - loss: 4.5466 - accuracy: 0.1415\n",
            "Epoch 7/50\n",
            "381/381 [==============================] - 27s 71ms/step - loss: 4.2557 - accuracy: 0.1739\n",
            "Epoch 8/50\n",
            "381/381 [==============================] - 27s 70ms/step - loss: 3.9792 - accuracy: 0.2064\n",
            "Epoch 9/50\n",
            "381/381 [==============================] - 27s 71ms/step - loss: 3.7009 - accuracy: 0.2554\n",
            "Epoch 10/50\n",
            "381/381 [==============================] - 35s 93ms/step - loss: 3.4336 - accuracy: 0.3035\n",
            "Epoch 11/50\n",
            "381/381 [==============================] - 29s 76ms/step - loss: 3.1749 - accuracy: 0.3573\n",
            "Epoch 12/50\n",
            "381/381 [==============================] - 27s 71ms/step - loss: 2.9287 - accuracy: 0.4079\n",
            "Epoch 13/50\n",
            "381/381 [==============================] - 27s 72ms/step - loss: 2.6972 - accuracy: 0.4574\n",
            "Epoch 14/50\n",
            "381/381 [==============================] - 28s 74ms/step - loss: 2.4784 - accuracy: 0.5035\n",
            "Epoch 15/50\n",
            "381/381 [==============================] - 28s 73ms/step - loss: 2.2795 - accuracy: 0.5444\n",
            "Epoch 16/50\n",
            "381/381 [==============================] - 27s 71ms/step - loss: 2.0941 - accuracy: 0.5850\n",
            "Epoch 17/50\n",
            "381/381 [==============================] - 27s 72ms/step - loss: 1.9229 - accuracy: 0.6163\n",
            "Epoch 18/50\n",
            "381/381 [==============================] - 28s 75ms/step - loss: 1.7661 - accuracy: 0.6541\n",
            "Epoch 19/50\n",
            "381/381 [==============================] - 30s 78ms/step - loss: 1.6231 - accuracy: 0.6819\n",
            "Epoch 20/50\n",
            "381/381 [==============================] - 28s 74ms/step - loss: 1.4882 - accuracy: 0.7119\n",
            "Epoch 21/50\n",
            "381/381 [==============================] - 28s 74ms/step - loss: 1.3671 - accuracy: 0.7341\n",
            "Epoch 22/50\n",
            "381/381 [==============================] - 28s 74ms/step - loss: 1.2524 - accuracy: 0.7619\n",
            "Epoch 23/50\n",
            "381/381 [==============================] - 28s 73ms/step - loss: 1.1481 - accuracy: 0.7845\n",
            "Epoch 24/50\n",
            "381/381 [==============================] - 28s 72ms/step - loss: 1.0515 - accuracy: 0.8009\n",
            "Epoch 25/50\n",
            "381/381 [==============================] - 28s 73ms/step - loss: 0.9667 - accuracy: 0.8191\n",
            "Epoch 26/50\n",
            "381/381 [==============================] - 28s 73ms/step - loss: 0.8866 - accuracy: 0.8357\n",
            "Epoch 27/50\n",
            "381/381 [==============================] - 30s 79ms/step - loss: 0.8141 - accuracy: 0.8499\n",
            "Epoch 28/50\n",
            "381/381 [==============================] - 28s 73ms/step - loss: 0.7482 - accuracy: 0.8624\n",
            "Epoch 29/50\n",
            "381/381 [==============================] - 28s 74ms/step - loss: 0.6848 - accuracy: 0.8767\n",
            "Epoch 30/50\n",
            "381/381 [==============================] - 28s 74ms/step - loss: 0.6308 - accuracy: 0.8846\n",
            "Epoch 31/50\n",
            "381/381 [==============================] - 29s 76ms/step - loss: 0.5816 - accuracy: 0.8952\n",
            "Epoch 32/50\n",
            "381/381 [==============================] - 28s 73ms/step - loss: 0.5387 - accuracy: 0.8999\n",
            "Epoch 33/50\n",
            "381/381 [==============================] - 28s 74ms/step - loss: 0.4982 - accuracy: 0.9088\n",
            "Epoch 34/50\n",
            "381/381 [==============================] - 29s 76ms/step - loss: 0.4610 - accuracy: 0.9140\n",
            "Epoch 35/50\n",
            "381/381 [==============================] - 30s 78ms/step - loss: 0.4310 - accuracy: 0.9174\n",
            "Epoch 36/50\n",
            "381/381 [==============================] - 28s 74ms/step - loss: 0.4031 - accuracy: 0.9200\n",
            "Epoch 37/50\n",
            "381/381 [==============================] - 28s 74ms/step - loss: 0.3775 - accuracy: 0.9225\n",
            "Epoch 38/50\n",
            "381/381 [==============================] - 30s 78ms/step - loss: 0.3548 - accuracy: 0.9274\n",
            "Epoch 39/50\n",
            "381/381 [==============================] - 29s 77ms/step - loss: 0.3355 - accuracy: 0.9284\n",
            "Epoch 40/50\n",
            "381/381 [==============================] - 29s 75ms/step - loss: 0.3186 - accuracy: 0.9296\n",
            "Epoch 41/50\n",
            "381/381 [==============================] - 29s 76ms/step - loss: 0.3063 - accuracy: 0.9305\n",
            "Epoch 42/50\n",
            "381/381 [==============================] - 29s 76ms/step - loss: 0.2934 - accuracy: 0.9310\n",
            "Epoch 43/50\n",
            "381/381 [==============================] - 29s 75ms/step - loss: 0.2803 - accuracy: 0.9327\n",
            "Epoch 44/50\n",
            "381/381 [==============================] - 28s 74ms/step - loss: 0.2698 - accuracy: 0.9327\n",
            "Epoch 45/50\n",
            "381/381 [==============================] - 29s 77ms/step - loss: 0.2626 - accuracy: 0.9318\n",
            "Epoch 46/50\n",
            "381/381 [==============================] - 29s 76ms/step - loss: 0.2548 - accuracy: 0.9322\n",
            "Epoch 47/50\n",
            "381/381 [==============================] - 29s 76ms/step - loss: 0.2487 - accuracy: 0.9347\n",
            "Epoch 48/50\n",
            "381/381 [==============================] - 29s 77ms/step - loss: 0.2420 - accuracy: 0.9346\n",
            "Epoch 49/50\n",
            "381/381 [==============================] - 29s 77ms/step - loss: 0.2360 - accuracy: 0.9338\n",
            "Epoch 50/50\n",
            "381/381 [==============================] - 29s 77ms/step - loss: 0.2320 - accuracy: 0.9337\n"
          ]
        },
        {
          "output_type": "execute_result",
          "data": {
            "text/plain": [
              "<keras.src.callbacks.History at 0x79077ab4ebc0>"
            ]
          },
          "metadata": {},
          "execution_count": 45
        }
      ]
    },
    {
      "cell_type": "code",
      "source": [
        "text = 'hello'\n",
        "token = tokenizer.texts_to_sequences([text])[0]\n",
        "token = pad_sequences([token], maxlen = 30, padding = 'pre')\n",
        "model.predict(token)"
      ],
      "metadata": {
        "colab": {
          "base_uri": "https://localhost:8080/"
        },
        "id": "e2iriptyBfnB",
        "outputId": "8530cc29-b723-49c9-d432-6f15620a5af4"
      },
      "execution_count": 47,
      "outputs": [
        {
          "output_type": "stream",
          "name": "stdout",
          "text": [
            "1/1 [==============================] - 1s 544ms/step\n"
          ]
        },
        {
          "output_type": "execute_result",
          "data": {
            "text/plain": [
              "array([[5.1255988e-10, 3.2514757e-01, 5.2520591e-01, ..., 2.9364822e-09,\n",
              "        7.8038814e-10, 8.3293450e-12]], dtype=float32)"
            ]
          },
          "metadata": {},
          "execution_count": 47
        }
      ]
    },
    {
      "cell_type": "code",
      "source": [
        "import numpy as np"
      ],
      "metadata": {
        "id": "vfrs_zDqLJeM"
      },
      "execution_count": 48,
      "outputs": []
    },
    {
      "cell_type": "code",
      "source": [
        "index = np.argmax(model.predict(token))"
      ],
      "metadata": {
        "colab": {
          "base_uri": "https://localhost:8080/"
        },
        "id": "zfXfTni_LWDx",
        "outputId": "efdebebc-6c4c-416b-ccaa-c4db48687bed"
      },
      "execution_count": 49,
      "outputs": [
        {
          "output_type": "stream",
          "name": "stdout",
          "text": [
            "1/1 [==============================] - 0s 41ms/step\n"
          ]
        }
      ]
    },
    {
      "cell_type": "code",
      "source": [
        "index"
      ],
      "metadata": {
        "colab": {
          "base_uri": "https://localhost:8080/"
        },
        "id": "IFIu3wCNLa-h",
        "outputId": "808061bb-6c5d-415e-a48b-2b077b373a48"
      },
      "execution_count": 50,
      "outputs": [
        {
          "output_type": "execute_result",
          "data": {
            "text/plain": [
              "2"
            ]
          },
          "metadata": {},
          "execution_count": 50
        }
      ]
    },
    {
      "cell_type": "code",
      "source": [
        "for word, ind in tokenizer.word_index.items():\n",
        "  if ind == index:\n",
        "    print(word)"
      ],
      "metadata": {
        "colab": {
          "base_uri": "https://localhost:8080/"
        },
        "id": "KbZeRQiULb2M",
        "outputId": "af5113c7-23d2-40b8-d2fa-e87a04b1cad5"
      },
      "execution_count": 51,
      "outputs": [
        {
          "output_type": "stream",
          "name": "stdout",
          "text": [
            "to\n"
          ]
        }
      ]
    },
    {
      "cell_type": "code",
      "source": [
        "def predictor(string : str) -> str:\n",
        "  token = tokenizer.texts_to_sequences([string])[0]\n",
        "  token = pad_sequences([token], maxlen = 30, padding = 'pre')\n",
        "  index = np.argmax(model.predict(token))\n",
        "  for word, ind in tokenizer.word_index.items():\n",
        "    if ind == index:\n",
        "      print(word)"
      ],
      "metadata": {
        "id": "nVTJIxwlLq-b"
      },
      "execution_count": 52,
      "outputs": []
    },
    {
      "cell_type": "code",
      "source": [
        "predictor('i don\\'t like this new chinese place. I should\\'ve just gone back my term out')"
      ],
      "metadata": {
        "colab": {
          "base_uri": "https://localhost:8080/"
        },
        "id": "j5u6KSFlMC1c",
        "outputId": "6b0f0ad6-e730-4110-92d2-1576079153f8"
      },
      "execution_count": 118,
      "outputs": [
        {
          "output_type": "stream",
          "name": "stdout",
          "text": [
            "1/1 [==============================] - 0s 29ms/step\n",
            "it\n"
          ]
        }
      ]
    },
    {
      "cell_type": "code",
      "source": [
        "!pip install pyyaml h5py"
      ],
      "metadata": {
        "colab": {
          "base_uri": "https://localhost:8080/"
        },
        "id": "2tZxD1tQMFCl",
        "outputId": "1a4c28f4-cabf-4a13-f144-408b5c0b8a96"
      },
      "execution_count": 119,
      "outputs": [
        {
          "output_type": "stream",
          "name": "stdout",
          "text": [
            "Requirement already satisfied: pyyaml in /usr/local/lib/python3.10/dist-packages (6.0.1)\n",
            "Requirement already satisfied: h5py in /usr/local/lib/python3.10/dist-packages (3.9.0)\n",
            "Requirement already satisfied: numpy>=1.17.3 in /usr/local/lib/python3.10/dist-packages (from h5py) (1.23.5)\n"
          ]
        }
      ]
    },
    {
      "cell_type": "code",
      "source": [
        "import os\n",
        "\n",
        "import tensorflow as tf\n",
        "from tensorflow import keras\n",
        "\n",
        "print(tf.version.VERSION)"
      ],
      "metadata": {
        "colab": {
          "base_uri": "https://localhost:8080/"
        },
        "id": "p45Z9hHWR3Lq",
        "outputId": "b8e0fafd-d40c-4fd9-e20d-7f227ca1bbed"
      },
      "execution_count": 120,
      "outputs": [
        {
          "output_type": "stream",
          "name": "stdout",
          "text": [
            "2.15.0\n"
          ]
        }
      ]
    },
    {
      "cell_type": "code",
      "source": [
        "model.save('wordPredictor.keras')"
      ],
      "metadata": {
        "id": "5E-GSSauR72f"
      },
      "execution_count": 121,
      "outputs": []
    },
    {
      "cell_type": "code",
      "source": [
        "new_model = tf.keras.models.load_model('wordPredictor.keras')\n",
        "\n",
        "# Show the model architecture\n",
        "new_model.summary()"
      ],
      "metadata": {
        "colab": {
          "base_uri": "https://localhost:8080/"
        },
        "id": "1lYpzKhESWli",
        "outputId": "13b329e3-f434-4b49-cc07-eb741f07b82d"
      },
      "execution_count": 122,
      "outputs": [
        {
          "output_type": "stream",
          "name": "stdout",
          "text": [
            "Model: \"sequential_2\"\n",
            "_________________________________________________________________\n",
            " Layer (type)                Output Shape              Param #   \n",
            "=================================================================\n",
            " embedding_2 (Embedding)     (None, 30, 100)           309700    \n",
            "                                                                 \n",
            " lstm_2 (LSTM)               (None, 150)               150600    \n",
            "                                                                 \n",
            " dense_2 (Dense)             (None, 3097)              467647    \n",
            "                                                                 \n",
            "=================================================================\n",
            "Total params: 927947 (3.54 MB)\n",
            "Trainable params: 927947 (3.54 MB)\n",
            "Non-trainable params: 0 (0.00 Byte)\n",
            "_________________________________________________________________\n"
          ]
        }
      ]
    },
    {
      "cell_type": "code",
      "source": [
        "def predictor(string : str) -> str:\n",
        "  token = tokenizer.texts_to_sequences([string])[0]\n",
        "  token = pad_sequences([token], maxlen = 30, padding = 'pre')\n",
        "  index = np.argmax(new_model.predict(token))\n",
        "  for word, ind in tokenizer.word_index.items():\n",
        "    if ind == index:\n",
        "      print(word)"
      ],
      "metadata": {
        "id": "e5Ti9RuRSktv"
      },
      "execution_count": 123,
      "outputs": []
    },
    {
      "cell_type": "code",
      "source": [
        "predictor('hello to')"
      ],
      "metadata": {
        "colab": {
          "base_uri": "https://localhost:8080/"
        },
        "id": "68_aa53QSqno",
        "outputId": "dabe1dbd-03b8-4692-e8de-772e853e5350"
      },
      "execution_count": 125,
      "outputs": [
        {
          "output_type": "stream",
          "name": "stdout",
          "text": [
            "1/1 [==============================] - 0s 31ms/step\n",
            "hear\n"
          ]
        }
      ]
    },
    {
      "cell_type": "code",
      "source": [],
      "metadata": {
        "id": "3yKaDWBBSwP6"
      },
      "execution_count": null,
      "outputs": []
    }
  ]
}